{
 "metadata": {
  "language_info": {
   "codemirror_mode": {
    "name": "ipython",
    "version": 3
   },
   "file_extension": ".py",
   "mimetype": "text/x-python",
   "name": "python",
   "nbconvert_exporter": "python",
   "pygments_lexer": "ipython3",
   "version": "3.8.6"
  },
  "orig_nbformat": 4,
  "kernelspec": {
   "name": "python3",
   "display_name": "Python 3.8.6 64-bit ('tf': conda)"
  },
  "interpreter": {
   "hash": "4ea0e157563bacde0b7fd8dc93db6051c9678d5eadbd4117abf1a4cecbc8cd1a"
  }
 },
 "nbformat": 4,
 "nbformat_minor": 2,
 "cells": [
  {
   "cell_type": "code",
   "execution_count": 1,
   "metadata": {},
   "outputs": [],
   "source": [
    "import pandas as pd \n",
    "import matplotlib.pyplot as plt \n",
    "import numpy as np \n",
    "\n",
    "from sklearn.model_selection import train_test_split\n",
    "from sklearn.linear_model import LinearRegression, Lasso, SGDRegressor\n",
    "from sklearn.ensemble import RandomForestRegressor\n",
    "from sklearn.model_selection import GridSearchCV, RandomizedSearchCV\n",
    "from sklearn.model_selection import cross_val_score\n",
    "from sklearn.metrics import mean_absolute_error\n",
    "import pickle\n",
    "\n",
    "\n",
    "def print_full(x):\n",
    "    pd.set_option('display.max_rows', len(x))\n",
    "    print(x)\n",
    "    pd.reset_option('display.max_rows')"
   ]
  },
  {
   "cell_type": "code",
   "execution_count": 2,
   "metadata": {},
   "outputs": [],
   "source": [
    "df = pd.read_csv(\"eda_data.csv\")"
   ]
  },
  {
   "cell_type": "code",
   "execution_count": 3,
   "metadata": {},
   "outputs": [
    {
     "output_type": "execute_result",
     "data": {
      "text/plain": [
       "                   Job Title              Salary Estimate  \\\n",
       "0             Data Scientist   $53K-$91K (Glassdoor est.)   \n",
       "1  Healthcare Data Scientist  $63K-$112K (Glassdoor est.)   \n",
       "2             Data Scientist   $80K-$90K (Glassdoor est.)   \n",
       "3             Data Scientist   $56K-$97K (Glassdoor est.)   \n",
       "4             Data Scientist  $86K-$143K (Glassdoor est.)   \n",
       "\n",
       "                                     Job Description  Rating  \\\n",
       "0  Data Scientist\\nLocation: Albuquerque, NM\\nEdu...     3.8   \n",
       "1  What You Will Do:\\n\\nI. General Summary\\n\\nThe...     3.4   \n",
       "2  KnowBe4, Inc. is a high growth information sec...     4.8   \n",
       "3  *Organization and Job ID**\\nJob ID: 310709\\n\\n...     3.8   \n",
       "4  Data Scientist\\nAffinity Solutions / Marketing...     2.9   \n",
       "\n",
       "                                 Company Name         Location  \\\n",
       "0                      Tecolote Research\\n3.8  Albuquerque, NM   \n",
       "1  University of Maryland Medical System\\n3.4    Linthicum, MD   \n",
       "2                                KnowBe4\\n4.8   Clearwater, FL   \n",
       "3                                   PNNL\\n3.8     Richland, WA   \n",
       "4                     Affinity Solutions\\n2.9     New York, NY   \n",
       "\n",
       "     Headquarters                    Size  Founded   Type of ownership  ...  \\\n",
       "0      Goleta, CA   501 to 1000 employees     1973   Company - Private  ...   \n",
       "1   Baltimore, MD        10000+ employees     1984  Other Organization  ...   \n",
       "2  Clearwater, FL   501 to 1000 employees     2010   Company - Private  ...   \n",
       "3    Richland, WA  1001 to 5000 employees     1965          Government  ...   \n",
       "4    New York, NY     51 to 200 employees     1998   Company - Private  ...   \n",
       "\n",
       "  age python_yn R_yn spark  aws  excel        job_simp  seniority  desc_len  \\\n",
       "0  48         1    0     0    0      1  data scientist         na      2536   \n",
       "1  37         1    0     0    0      0  data scientist         na      4783   \n",
       "2  11         1    0     1    0      1  data scientist         na      3461   \n",
       "3  56         1    0     0    0      0  data scientist         na      3883   \n",
       "4  23         1    0     0    0      1  data scientist         na      2728   \n",
       "\n",
       "  num_comp  \n",
       "0        0  \n",
       "1        0  \n",
       "2        0  \n",
       "3        3  \n",
       "4        3  \n",
       "\n",
       "[5 rows x 32 columns]"
      ],
      "text/html": "<div>\n<style scoped>\n    .dataframe tbody tr th:only-of-type {\n        vertical-align: middle;\n    }\n\n    .dataframe tbody tr th {\n        vertical-align: top;\n    }\n\n    .dataframe thead th {\n        text-align: right;\n    }\n</style>\n<table border=\"1\" class=\"dataframe\">\n  <thead>\n    <tr style=\"text-align: right;\">\n      <th></th>\n      <th>Job Title</th>\n      <th>Salary Estimate</th>\n      <th>Job Description</th>\n      <th>Rating</th>\n      <th>Company Name</th>\n      <th>Location</th>\n      <th>Headquarters</th>\n      <th>Size</th>\n      <th>Founded</th>\n      <th>Type of ownership</th>\n      <th>...</th>\n      <th>age</th>\n      <th>python_yn</th>\n      <th>R_yn</th>\n      <th>spark</th>\n      <th>aws</th>\n      <th>excel</th>\n      <th>job_simp</th>\n      <th>seniority</th>\n      <th>desc_len</th>\n      <th>num_comp</th>\n    </tr>\n  </thead>\n  <tbody>\n    <tr>\n      <th>0</th>\n      <td>Data Scientist</td>\n      <td>$53K-$91K (Glassdoor est.)</td>\n      <td>Data Scientist\\nLocation: Albuquerque, NM\\nEdu...</td>\n      <td>3.8</td>\n      <td>Tecolote Research\\n3.8</td>\n      <td>Albuquerque, NM</td>\n      <td>Goleta, CA</td>\n      <td>501 to 1000 employees</td>\n      <td>1973</td>\n      <td>Company - Private</td>\n      <td>...</td>\n      <td>48</td>\n      <td>1</td>\n      <td>0</td>\n      <td>0</td>\n      <td>0</td>\n      <td>1</td>\n      <td>data scientist</td>\n      <td>na</td>\n      <td>2536</td>\n      <td>0</td>\n    </tr>\n    <tr>\n      <th>1</th>\n      <td>Healthcare Data Scientist</td>\n      <td>$63K-$112K (Glassdoor est.)</td>\n      <td>What You Will Do:\\n\\nI. General Summary\\n\\nThe...</td>\n      <td>3.4</td>\n      <td>University of Maryland Medical System\\n3.4</td>\n      <td>Linthicum, MD</td>\n      <td>Baltimore, MD</td>\n      <td>10000+ employees</td>\n      <td>1984</td>\n      <td>Other Organization</td>\n      <td>...</td>\n      <td>37</td>\n      <td>1</td>\n      <td>0</td>\n      <td>0</td>\n      <td>0</td>\n      <td>0</td>\n      <td>data scientist</td>\n      <td>na</td>\n      <td>4783</td>\n      <td>0</td>\n    </tr>\n    <tr>\n      <th>2</th>\n      <td>Data Scientist</td>\n      <td>$80K-$90K (Glassdoor est.)</td>\n      <td>KnowBe4, Inc. is a high growth information sec...</td>\n      <td>4.8</td>\n      <td>KnowBe4\\n4.8</td>\n      <td>Clearwater, FL</td>\n      <td>Clearwater, FL</td>\n      <td>501 to 1000 employees</td>\n      <td>2010</td>\n      <td>Company - Private</td>\n      <td>...</td>\n      <td>11</td>\n      <td>1</td>\n      <td>0</td>\n      <td>1</td>\n      <td>0</td>\n      <td>1</td>\n      <td>data scientist</td>\n      <td>na</td>\n      <td>3461</td>\n      <td>0</td>\n    </tr>\n    <tr>\n      <th>3</th>\n      <td>Data Scientist</td>\n      <td>$56K-$97K (Glassdoor est.)</td>\n      <td>*Organization and Job ID**\\nJob ID: 310709\\n\\n...</td>\n      <td>3.8</td>\n      <td>PNNL\\n3.8</td>\n      <td>Richland, WA</td>\n      <td>Richland, WA</td>\n      <td>1001 to 5000 employees</td>\n      <td>1965</td>\n      <td>Government</td>\n      <td>...</td>\n      <td>56</td>\n      <td>1</td>\n      <td>0</td>\n      <td>0</td>\n      <td>0</td>\n      <td>0</td>\n      <td>data scientist</td>\n      <td>na</td>\n      <td>3883</td>\n      <td>3</td>\n    </tr>\n    <tr>\n      <th>4</th>\n      <td>Data Scientist</td>\n      <td>$86K-$143K (Glassdoor est.)</td>\n      <td>Data Scientist\\nAffinity Solutions / Marketing...</td>\n      <td>2.9</td>\n      <td>Affinity Solutions\\n2.9</td>\n      <td>New York, NY</td>\n      <td>New York, NY</td>\n      <td>51 to 200 employees</td>\n      <td>1998</td>\n      <td>Company - Private</td>\n      <td>...</td>\n      <td>23</td>\n      <td>1</td>\n      <td>0</td>\n      <td>0</td>\n      <td>0</td>\n      <td>1</td>\n      <td>data scientist</td>\n      <td>na</td>\n      <td>2728</td>\n      <td>3</td>\n    </tr>\n  </tbody>\n</table>\n<p>5 rows × 32 columns</p>\n</div>"
     },
     "metadata": {},
     "execution_count": 3
    }
   ],
   "source": [
    "df.head()"
   ]
  },
  {
   "cell_type": "code",
   "execution_count": 4,
   "metadata": {},
   "outputs": [],
   "source": [
    "# TODO\n",
    "# choose relevant columns \n",
    "# get dummy data \n",
    "# train test split \n",
    "# multiple linear regression \n",
    "# lasso regression \n",
    "# random forest \n",
    "# tune models GridsearchCV \n",
    "# test ensembles "
   ]
  },
  {
   "source": [],
   "cell_type": "markdown",
   "metadata": {}
  },
  {
   "cell_type": "code",
   "execution_count": 5,
   "metadata": {},
   "outputs": [
    {
     "output_type": "execute_result",
     "data": {
      "text/plain": [
       "Index(['Job Title', 'Salary Estimate', 'Job Description', 'Rating',\n",
       "       'Company Name', 'Location', 'Headquarters', 'Size', 'Founded',\n",
       "       'Type of ownership', 'Industry', 'Sector', 'Revenue', 'Competitors',\n",
       "       'hourly', 'employer_provided', 'min_salary', 'max_salary',\n",
       "       'mean_salary', 'company_txt', 'job_state', 'same_state', 'age',\n",
       "       'python_yn', 'R_yn', 'spark', 'aws', 'excel', 'job_simp', 'seniority',\n",
       "       'desc_len', 'num_comp'],\n",
       "      dtype='object')"
      ]
     },
     "metadata": {},
     "execution_count": 5
    }
   ],
   "source": [
    "df.columns"
   ]
  },
  {
   "cell_type": "code",
   "execution_count": 6,
   "metadata": {},
   "outputs": [
    {
     "output_type": "execute_result",
     "data": {
      "text/plain": [
       "   mean_salary  Rating                    Size   Type of ownership  \\\n",
       "0         72.0     3.8   501 to 1000 employees   Company - Private   \n",
       "1         87.5     3.4        10000+ employees  Other Organization   \n",
       "2         85.0     4.8   501 to 1000 employees   Company - Private   \n",
       "3         76.5     3.8  1001 to 5000 employees          Government   \n",
       "4        114.5     2.9     51 to 200 employees   Company - Private   \n",
       "\n",
       "                           Industry                        Sector  \\\n",
       "0               Aerospace & Defense           Aerospace & Defense   \n",
       "1  Health Care Services & Hospitals                   Health Care   \n",
       "2                 Security Services             Business Services   \n",
       "3                            Energy  Oil, Gas, Energy & Utilities   \n",
       "4           Advertising & Marketing             Business Services   \n",
       "\n",
       "                            Revenue  num_comp  hourly  employer_provided  \\\n",
       "0         $50 to $100 million (USD)         0       0                  0   \n",
       "1            $2 to $5 billion (USD)         0       0                  0   \n",
       "2        $100 to $500 million (USD)         0       0                  0   \n",
       "3  $500 million to $1 billion (USD)         3       0                  0   \n",
       "4          Unknown / Non-Applicable         3       0                  0   \n",
       "\n",
       "  job_state  same_state  age  python_yn  spark  aws  excel        job_simp  \\\n",
       "0        NM           0   48          1      0    0      1  data scientist   \n",
       "1        MD           0   37          1      0    0      0  data scientist   \n",
       "2        FL           1   11          1      1    0      1  data scientist   \n",
       "3        WA           1   56          1      0    0      0  data scientist   \n",
       "4        NY           1   23          1      0    0      1  data scientist   \n",
       "\n",
       "  seniority  desc_len  \n",
       "0        na      2536  \n",
       "1        na      4783  \n",
       "2        na      3461  \n",
       "3        na      3883  \n",
       "4        na      2728  "
      ],
      "text/html": "<div>\n<style scoped>\n    .dataframe tbody tr th:only-of-type {\n        vertical-align: middle;\n    }\n\n    .dataframe tbody tr th {\n        vertical-align: top;\n    }\n\n    .dataframe thead th {\n        text-align: right;\n    }\n</style>\n<table border=\"1\" class=\"dataframe\">\n  <thead>\n    <tr style=\"text-align: right;\">\n      <th></th>\n      <th>mean_salary</th>\n      <th>Rating</th>\n      <th>Size</th>\n      <th>Type of ownership</th>\n      <th>Industry</th>\n      <th>Sector</th>\n      <th>Revenue</th>\n      <th>num_comp</th>\n      <th>hourly</th>\n      <th>employer_provided</th>\n      <th>job_state</th>\n      <th>same_state</th>\n      <th>age</th>\n      <th>python_yn</th>\n      <th>spark</th>\n      <th>aws</th>\n      <th>excel</th>\n      <th>job_simp</th>\n      <th>seniority</th>\n      <th>desc_len</th>\n    </tr>\n  </thead>\n  <tbody>\n    <tr>\n      <th>0</th>\n      <td>72.0</td>\n      <td>3.8</td>\n      <td>501 to 1000 employees</td>\n      <td>Company - Private</td>\n      <td>Aerospace &amp; Defense</td>\n      <td>Aerospace &amp; Defense</td>\n      <td>$50 to $100 million (USD)</td>\n      <td>0</td>\n      <td>0</td>\n      <td>0</td>\n      <td>NM</td>\n      <td>0</td>\n      <td>48</td>\n      <td>1</td>\n      <td>0</td>\n      <td>0</td>\n      <td>1</td>\n      <td>data scientist</td>\n      <td>na</td>\n      <td>2536</td>\n    </tr>\n    <tr>\n      <th>1</th>\n      <td>87.5</td>\n      <td>3.4</td>\n      <td>10000+ employees</td>\n      <td>Other Organization</td>\n      <td>Health Care Services &amp; Hospitals</td>\n      <td>Health Care</td>\n      <td>$2 to $5 billion (USD)</td>\n      <td>0</td>\n      <td>0</td>\n      <td>0</td>\n      <td>MD</td>\n      <td>0</td>\n      <td>37</td>\n      <td>1</td>\n      <td>0</td>\n      <td>0</td>\n      <td>0</td>\n      <td>data scientist</td>\n      <td>na</td>\n      <td>4783</td>\n    </tr>\n    <tr>\n      <th>2</th>\n      <td>85.0</td>\n      <td>4.8</td>\n      <td>501 to 1000 employees</td>\n      <td>Company - Private</td>\n      <td>Security Services</td>\n      <td>Business Services</td>\n      <td>$100 to $500 million (USD)</td>\n      <td>0</td>\n      <td>0</td>\n      <td>0</td>\n      <td>FL</td>\n      <td>1</td>\n      <td>11</td>\n      <td>1</td>\n      <td>1</td>\n      <td>0</td>\n      <td>1</td>\n      <td>data scientist</td>\n      <td>na</td>\n      <td>3461</td>\n    </tr>\n    <tr>\n      <th>3</th>\n      <td>76.5</td>\n      <td>3.8</td>\n      <td>1001 to 5000 employees</td>\n      <td>Government</td>\n      <td>Energy</td>\n      <td>Oil, Gas, Energy &amp; Utilities</td>\n      <td>$500 million to $1 billion (USD)</td>\n      <td>3</td>\n      <td>0</td>\n      <td>0</td>\n      <td>WA</td>\n      <td>1</td>\n      <td>56</td>\n      <td>1</td>\n      <td>0</td>\n      <td>0</td>\n      <td>0</td>\n      <td>data scientist</td>\n      <td>na</td>\n      <td>3883</td>\n    </tr>\n    <tr>\n      <th>4</th>\n      <td>114.5</td>\n      <td>2.9</td>\n      <td>51 to 200 employees</td>\n      <td>Company - Private</td>\n      <td>Advertising &amp; Marketing</td>\n      <td>Business Services</td>\n      <td>Unknown / Non-Applicable</td>\n      <td>3</td>\n      <td>0</td>\n      <td>0</td>\n      <td>NY</td>\n      <td>1</td>\n      <td>23</td>\n      <td>1</td>\n      <td>0</td>\n      <td>0</td>\n      <td>1</td>\n      <td>data scientist</td>\n      <td>na</td>\n      <td>2728</td>\n    </tr>\n  </tbody>\n</table>\n</div>"
     },
     "metadata": {},
     "execution_count": 6
    }
   ],
   "source": [
    "# choose relevant columns \n",
    "df_model = df[['mean_salary','Rating','Size','Type of ownership','Industry','Sector','Revenue','num_comp','hourly','employer_provided','job_state','same_state','age','python_yn','spark','aws','excel','job_simp','seniority','desc_len']]\n",
    "df_model.head()"
   ]
  },
  {
   "cell_type": "code",
   "execution_count": 7,
   "metadata": {},
   "outputs": [
    {
     "output_type": "execute_result",
     "data": {
      "text/plain": [
       "(742, 178)"
      ]
     },
     "metadata": {},
     "execution_count": 7
    }
   ],
   "source": [
    "# get dummy data \n",
    "df_dum = pd.get_dummies(df_model) # transforms the categorical variables\n",
    "df_dum.shape"
   ]
  },
  {
   "cell_type": "code",
   "execution_count": 8,
   "metadata": {
    "tags": []
   },
   "outputs": [
    {
     "output_type": "execute_result",
     "data": {
      "text/plain": [
       "     mean_salary  Rating  num_comp  hourly  employer_provided  same_state  \\\n",
       "0           72.0     3.8         0       0                  0           0   \n",
       "1           87.5     3.4         0       0                  0           0   \n",
       "2           85.0     4.8         0       0                  0           1   \n",
       "3           76.5     3.8         3       0                  0           1   \n",
       "4          114.5     2.9         3       0                  0           1   \n",
       "..           ...     ...       ...     ...                ...         ...   \n",
       "737         84.5     3.9         3       0                  0           0   \n",
       "738        102.5     4.4         3       0                  0           0   \n",
       "739         73.5     2.6         0       0                  0           1   \n",
       "740        127.5     3.2         0       0                  0           0   \n",
       "741         93.5     3.6         0       0                  0           0   \n",
       "\n",
       "     age  python_yn  spark  aws  ...  job_simp_analyst  \\\n",
       "0     48          1      0    0  ...                 0   \n",
       "1     37          1      0    0  ...                 0   \n",
       "2     11          1      1    0  ...                 0   \n",
       "3     56          1      0    0  ...                 0   \n",
       "4     23          1      0    0  ...                 0   \n",
       "..   ...        ...    ...  ...  ...               ...   \n",
       "737  191          0      0    1  ...                 0   \n",
       "738   15          1      1    1  ...                 0   \n",
       "739   37          0      0    0  ...                 0   \n",
       "740   -1          0      0    0  ...                 0   \n",
       "741   54          1      0    0  ...                 0   \n",
       "\n",
       "     job_simp_data engineer  job_simp_data scientist  job_simp_director  \\\n",
       "0                         0                        1                  0   \n",
       "1                         0                        1                  0   \n",
       "2                         0                        1                  0   \n",
       "3                         0                        1                  0   \n",
       "4                         0                        1                  0   \n",
       "..                      ...                      ...                ...   \n",
       "737                       0                        0                  0   \n",
       "738                       1                        0                  0   \n",
       "739                       0                        0                  0   \n",
       "740                       0                        0                  0   \n",
       "741                       0                        0                  0   \n",
       "\n",
       "     job_simp_manager  job_simp_mle  job_simp_na  seniority_jr  seniority_na  \\\n",
       "0                   0             0            0             0             1   \n",
       "1                   0             0            0             0             1   \n",
       "2                   0             0            0             0             1   \n",
       "3                   0             0            0             0             1   \n",
       "4                   0             0            0             0             1   \n",
       "..                ...           ...          ...           ...           ...   \n",
       "737                 0             0            1             0             0   \n",
       "738                 0             0            0             0             0   \n",
       "739                 0             0            1             0             1   \n",
       "740                 1             0            0             0             1   \n",
       "741                 0             0            1             0             1   \n",
       "\n",
       "     seniority_senior  \n",
       "0                   0  \n",
       "1                   0  \n",
       "2                   0  \n",
       "3                   0  \n",
       "4                   0  \n",
       "..                ...  \n",
       "737                 1  \n",
       "738                 1  \n",
       "739                 0  \n",
       "740                 0  \n",
       "741                 0  \n",
       "\n",
       "[742 rows x 178 columns]"
      ],
      "text/html": "<div>\n<style scoped>\n    .dataframe tbody tr th:only-of-type {\n        vertical-align: middle;\n    }\n\n    .dataframe tbody tr th {\n        vertical-align: top;\n    }\n\n    .dataframe thead th {\n        text-align: right;\n    }\n</style>\n<table border=\"1\" class=\"dataframe\">\n  <thead>\n    <tr style=\"text-align: right;\">\n      <th></th>\n      <th>mean_salary</th>\n      <th>Rating</th>\n      <th>num_comp</th>\n      <th>hourly</th>\n      <th>employer_provided</th>\n      <th>same_state</th>\n      <th>age</th>\n      <th>python_yn</th>\n      <th>spark</th>\n      <th>aws</th>\n      <th>...</th>\n      <th>job_simp_analyst</th>\n      <th>job_simp_data engineer</th>\n      <th>job_simp_data scientist</th>\n      <th>job_simp_director</th>\n      <th>job_simp_manager</th>\n      <th>job_simp_mle</th>\n      <th>job_simp_na</th>\n      <th>seniority_jr</th>\n      <th>seniority_na</th>\n      <th>seniority_senior</th>\n    </tr>\n  </thead>\n  <tbody>\n    <tr>\n      <th>0</th>\n      <td>72.0</td>\n      <td>3.8</td>\n      <td>0</td>\n      <td>0</td>\n      <td>0</td>\n      <td>0</td>\n      <td>48</td>\n      <td>1</td>\n      <td>0</td>\n      <td>0</td>\n      <td>...</td>\n      <td>0</td>\n      <td>0</td>\n      <td>1</td>\n      <td>0</td>\n      <td>0</td>\n      <td>0</td>\n      <td>0</td>\n      <td>0</td>\n      <td>1</td>\n      <td>0</td>\n    </tr>\n    <tr>\n      <th>1</th>\n      <td>87.5</td>\n      <td>3.4</td>\n      <td>0</td>\n      <td>0</td>\n      <td>0</td>\n      <td>0</td>\n      <td>37</td>\n      <td>1</td>\n      <td>0</td>\n      <td>0</td>\n      <td>...</td>\n      <td>0</td>\n      <td>0</td>\n      <td>1</td>\n      <td>0</td>\n      <td>0</td>\n      <td>0</td>\n      <td>0</td>\n      <td>0</td>\n      <td>1</td>\n      <td>0</td>\n    </tr>\n    <tr>\n      <th>2</th>\n      <td>85.0</td>\n      <td>4.8</td>\n      <td>0</td>\n      <td>0</td>\n      <td>0</td>\n      <td>1</td>\n      <td>11</td>\n      <td>1</td>\n      <td>1</td>\n      <td>0</td>\n      <td>...</td>\n      <td>0</td>\n      <td>0</td>\n      <td>1</td>\n      <td>0</td>\n      <td>0</td>\n      <td>0</td>\n      <td>0</td>\n      <td>0</td>\n      <td>1</td>\n      <td>0</td>\n    </tr>\n    <tr>\n      <th>3</th>\n      <td>76.5</td>\n      <td>3.8</td>\n      <td>3</td>\n      <td>0</td>\n      <td>0</td>\n      <td>1</td>\n      <td>56</td>\n      <td>1</td>\n      <td>0</td>\n      <td>0</td>\n      <td>...</td>\n      <td>0</td>\n      <td>0</td>\n      <td>1</td>\n      <td>0</td>\n      <td>0</td>\n      <td>0</td>\n      <td>0</td>\n      <td>0</td>\n      <td>1</td>\n      <td>0</td>\n    </tr>\n    <tr>\n      <th>4</th>\n      <td>114.5</td>\n      <td>2.9</td>\n      <td>3</td>\n      <td>0</td>\n      <td>0</td>\n      <td>1</td>\n      <td>23</td>\n      <td>1</td>\n      <td>0</td>\n      <td>0</td>\n      <td>...</td>\n      <td>0</td>\n      <td>0</td>\n      <td>1</td>\n      <td>0</td>\n      <td>0</td>\n      <td>0</td>\n      <td>0</td>\n      <td>0</td>\n      <td>1</td>\n      <td>0</td>\n    </tr>\n    <tr>\n      <th>...</th>\n      <td>...</td>\n      <td>...</td>\n      <td>...</td>\n      <td>...</td>\n      <td>...</td>\n      <td>...</td>\n      <td>...</td>\n      <td>...</td>\n      <td>...</td>\n      <td>...</td>\n      <td>...</td>\n      <td>...</td>\n      <td>...</td>\n      <td>...</td>\n      <td>...</td>\n      <td>...</td>\n      <td>...</td>\n      <td>...</td>\n      <td>...</td>\n      <td>...</td>\n      <td>...</td>\n    </tr>\n    <tr>\n      <th>737</th>\n      <td>84.5</td>\n      <td>3.9</td>\n      <td>3</td>\n      <td>0</td>\n      <td>0</td>\n      <td>0</td>\n      <td>191</td>\n      <td>0</td>\n      <td>0</td>\n      <td>1</td>\n      <td>...</td>\n      <td>0</td>\n      <td>0</td>\n      <td>0</td>\n      <td>0</td>\n      <td>0</td>\n      <td>0</td>\n      <td>1</td>\n      <td>0</td>\n      <td>0</td>\n      <td>1</td>\n    </tr>\n    <tr>\n      <th>738</th>\n      <td>102.5</td>\n      <td>4.4</td>\n      <td>3</td>\n      <td>0</td>\n      <td>0</td>\n      <td>0</td>\n      <td>15</td>\n      <td>1</td>\n      <td>1</td>\n      <td>1</td>\n      <td>...</td>\n      <td>0</td>\n      <td>1</td>\n      <td>0</td>\n      <td>0</td>\n      <td>0</td>\n      <td>0</td>\n      <td>0</td>\n      <td>0</td>\n      <td>0</td>\n      <td>1</td>\n    </tr>\n    <tr>\n      <th>739</th>\n      <td>73.5</td>\n      <td>2.6</td>\n      <td>0</td>\n      <td>0</td>\n      <td>0</td>\n      <td>1</td>\n      <td>37</td>\n      <td>0</td>\n      <td>0</td>\n      <td>0</td>\n      <td>...</td>\n      <td>0</td>\n      <td>0</td>\n      <td>0</td>\n      <td>0</td>\n      <td>0</td>\n      <td>0</td>\n      <td>1</td>\n      <td>0</td>\n      <td>1</td>\n      <td>0</td>\n    </tr>\n    <tr>\n      <th>740</th>\n      <td>127.5</td>\n      <td>3.2</td>\n      <td>0</td>\n      <td>0</td>\n      <td>0</td>\n      <td>0</td>\n      <td>-1</td>\n      <td>0</td>\n      <td>0</td>\n      <td>0</td>\n      <td>...</td>\n      <td>0</td>\n      <td>0</td>\n      <td>0</td>\n      <td>0</td>\n      <td>1</td>\n      <td>0</td>\n      <td>0</td>\n      <td>0</td>\n      <td>1</td>\n      <td>0</td>\n    </tr>\n    <tr>\n      <th>741</th>\n      <td>93.5</td>\n      <td>3.6</td>\n      <td>0</td>\n      <td>0</td>\n      <td>0</td>\n      <td>0</td>\n      <td>54</td>\n      <td>1</td>\n      <td>0</td>\n      <td>0</td>\n      <td>...</td>\n      <td>0</td>\n      <td>0</td>\n      <td>0</td>\n      <td>0</td>\n      <td>0</td>\n      <td>0</td>\n      <td>1</td>\n      <td>0</td>\n      <td>1</td>\n      <td>0</td>\n    </tr>\n  </tbody>\n</table>\n<p>742 rows × 178 columns</p>\n</div>"
     },
     "metadata": {},
     "execution_count": 8
    }
   ],
   "source": [
    "df_dum"
   ]
  },
  {
   "cell_type": "code",
   "execution_count": 9,
   "metadata": {},
   "outputs": [],
   "source": [
    "# train test split \n",
    "\n",
    "X = df_dum.drop('mean_salary', axis=1)\n",
    "y = df_dum.mean_salary.values # makes NumPy array\n",
    "\n",
    "X_train, X_test, y_train, y_test = train_test_split(X, y, test_size=0.2, random_state=42)"
   ]
  },
  {
   "cell_type": "code",
   "execution_count": 10,
   "metadata": {},
   "outputs": [
    {
     "output_type": "execute_result",
     "data": {
      "text/plain": [
       ".508      0.612     -14.331       8.444\n",
       "Size_1001 to 5000 employees                           6.0728      3.875      1.567      0.118      -1.538      13.684\n",
       "Size_201 to 500 employees                             2.1759      3.867      0.563      0.574      -5.419       9.771\n",
       "Size_5001 to 10000 employees                         -3.9273      5.440     -0.722      0.471     -14.612       6.757\n",
       "Size_501 to 1000 employees                            2.0146      4.048      0.498      0.619      -5.935       9.964\n",
       "Size_51 to 200 employees                              4.0596      4.405      0.922      0.357      -4.592      12.711\n",
       "Size_Unknown                                         20.9221     14.009      1.494      0.136      -6.590      48.434\n",
       "Type of ownership_-1                                 13.5666      8.631      1.572      0.117      -3.383      30.517\n",
       "Type of ownership_College / University                6.1638     17.728      0.348      0.728     -28.653      40.981\n",
       "Type of ownership_Company - Private                   8.6496      5.247      1.648      0.100      -1.656      18.955\n",
       "Type of ownership_Company - Public                   13.2929      5.704      2.331      0.020       2.091      24.494\n",
       "Type of ownership_Government                        -15.5595     15.297     -1.017      0.309     -45.601      14.482\n",
       "Type of ownership_Hospital                           -7.0573      9.967     -0.708      0.479     -26.631      12.516\n",
       "Type of ownership_Nonprofit Organization            -10.0978      6.702     -1.507      0.132     -23.261       3.065\n",
       "Type of ownership_Other Organization                 -6.1100     14.342     -0.426      0.670     -34.277      22.058\n",
       "Type of ownership_School / School District           -5.9558     23.799     -0.250      0.802     -52.696      40.785\n",
       "Type of ownership_Subsidiary or Business Segment     12.8198      6.933      1.849      0.065      -0.797      26.437\n",
       "Type of ownership_Unknown                            33.2005     28.611      1.160      0.246     -22.990      89.392\n",
       "Industry_-1                                           5.7949      7.943      0.730      0.466      -9.805      21.394\n",
       "Industry_Accounting                                   2.4448     13.486      0.181      0.856     -24.041      28.931\n",
       "Industry_Advertising & Marketing                     11.8022      5.961      1.980      0.048       0.096      23.509\n",
       "Industry_Aerospace & Defense                          5.5154      3.103      1.777      0.076      -0.579      11.610\n",
       "Industry_Architectural & Engineering Services       -32.4525     15.937     -2.036      0.042     -63.751      -1.154\n",
       "Industry_Auctions & Galleries                         9.3811     22.880      0.410      0.682     -35.553      54.315\n",
       "Industry_Banks & Credit Unions                      -16.9190      8.055     -2.100      0.036     -32.739      -1.099\n",
       "Industry_Beauty & Personal Accessories Stores        15.6296     21.566      0.725      0.469     -26.725      57.984\n",
       "Industry_Biotech & Pharmaceuticals                    6.4081      2.044      3.135      0.002       2.394      10.422\n",
       "Industry_Brokerage Services                          28.0966     15.523      1.810      0.071      -2.390      58.584\n",
       "Industry_Colleges & Universities                     11.0667     13.013      0.850      0.395     -14.489      36.623\n",
       "Industry_Computer Hardware & Software                -0.9465      3.250     -0.291      0.771      -7.329       5.436\n",
       "Industry_Construction                               -15.6896     10.567     -1.485      0.138     -36.442       5.063\n",
       "Industry_Consulting                                  12.9249      5.902      2.190      0.029       1.334      24.516\n",
       "Industry_Consumer Product Rental                     -2.4472     13.018     -0.188      0.851     -28.014      23.120\n",
       "Industry_Consumer Products Manufacturing             13.7766      9.858      1.397      0.163      -5.584      33.138\n",
       "Industry_Department, Clothing, & Shoe Stores          4.7983     11.580      0.414      0.679     -17.945      27.541\n",
       "Industry_Education Training Services                -23.5551     12.529     -1.880      0.061     -48.161       1.051\n",
       "Industry_Energy                                      -4.2058      7.679     -0.548      0.584     -19.287      10.875\n",
       "Industry_Enterprise Software & Network Solutions      9.5082      3.593      2.646      0.008       2.452      16.565\n",
       "Industry_Farm Support Services                       -0.8840     12.656     -0.070      0.944     -25.740      23.972\n",
       "Industry_Federal Agencies                             8.3755      5.212      1.607      0.109      -1.860      18.612\n",
       "Industry_Financial Analytics & Research               0.3353      9.197      0.036      0.971     -17.728      18.398\n",
       "Industry_Financial Transaction Processing           -17.4893     12.896     -1.356      0.176     -42.816       7.837\n",
       "Industry_Food & Beverage Manufacturing               -3.0871     11.579     -0.267      0.790     -25.828      19.654\n",
       "Industry_Gambling                                    -9.3034      6.523     -1.426      0.154     -22.114       3.507\n",
       "Industry_Gas Stations                               -24.4471     15.553     -1.572      0.117     -54.992       6.097\n",
       "Industry_Health Care Products Manufacturing          21.0157     22.127      0.950      0.343     -22.440      64.471\n",
       "Industry_Health Care Services & Hospitals             5.8228      2.915      1.997      0.046       0.097      11.548\n",
       "Industry_Health, Beauty, & Fitness                   -2.2747     17.436     -0.130      0.896     -36.519      31.969\n",
       "Industry_IT Services                                  1.1886      3.580      0.332      0.740      -5.843       8.220\n",
       "Industry_Industrial Manufacturing                   -13.9501     12.831     -1.087      0.277     -39.149      11.249\n",
       "Industry_Insurance Agencies & Brokerages             -3.9005      7.007     -0.557      0.578     -17.661       9.860\n",
       "Industry_Insurance Carriers                           5.5303      4.488      1.232      0.218      -3.285      14.345\n",
       "Industry_Internet                                     0.3210      4.516      0.071      0.943      -8.547       9.189\n",
       "Industry_Investment Banking & Asset Management       35.9861     12.088      2.977      0.003      12.245      59.727\n",
       "Industry_K-12 Education                              10.0292     14.785      0.678      0.498     -19.008      39.066\n",
       "Industry_Lending                                     -1.6760      9.860     -0.170      0.865     -21.041      17.689\n",
       "Industry_Logistics & Supply Chain                     1.5416     13.414      0.115      0.909     -24.803      27.886\n",
       "Industry_Metals Brokers                              -7.7311     15.600     -0.496      0.620     -38.369      22.907\n",
       "Industry_Mining                                      -3.8789     17.964     -0.216      0.829     -39.159      31.401\n",
       "Industry_Motion Picture Production & Distribution    46.0803     19.609      2.350      0.019       7.569      84.591\n",
       "Industry_Other Retail Stores                         40.0587     21.696      1.846      0.065      -2.552      82.669\n",
       "Industry_Real Estate                                 -2.3699      4.959     -0.478      0.633     -12.109       7.369\n",
       "Industry_Religious Organizations                     26.0704     13.712      1.901      0.058      -0.858      52.999\n",
       "Industry_Research & Development                      -3.0015      6.548     -0.458      0.647     -15.861       9.858\n",
       "Industry_Security Services                           14.3346      9.792      1.464      0.144      -4.896      33.565\n",
       "Industry_Social Assistance                          -11.0537     11.794     -0.937      0.349     -34.216      12.109\n",
       "Industry_Sporting Goods Stores                      -37.7224     17.835     -2.115      0.035     -72.749      -2.696\n",
       "Industry_Staffing & Outsourcing                      -5.7177     10.989     -0.520      0.603     -27.298      15.863\n",
       "Industry_Stock Exchanges                            -15.1806      7.891     -1.924      0.055     -30.678       0.316\n",
       "Industry_TV Broadcast & Cable Networks               -0.0530     15.542     -0.003      0.997     -30.576      30.470\n",
       "Industry_Telecommunications Manufacturing             4.2453     13.670      0.311      0.756     -22.601      31.092\n",
       "Industry_Telecommunications Services                  0.0435     11.267      0.004      0.997     -22.083      22.170\n",
       "Industry_Transportation Equipment Manufacturing     -19.3139     23.723     -0.814      0.416     -65.904      27.277\n",
       "Industry_Transportation Management                  -20.7518     14.031     -1.479      0.140     -48.307       6.803\n",
       "Industry_Travel Agencies                             -5.5776      5.252     -1.062      0.289     -15.893       4.738\n",
       "Industry_Trucking                                    22.7956     19.853      1.148      0.251     -16.195      61.786\n",
       "Industry_Video Games                                -30.2386     14.430     -2.096      0.037     -58.578      -1.900\n",
       "Industry_Wholesale                                   -2.1906     13.110     -0.167      0.867     -27.938      23.557\n",
       "Sector_-1                                             5.7949      7.943      0.730      0.466      -9.805      21.394\n",
       "Sector_Accounting & Legal                             2.4448     13.486      0.181      0.856     -24.041      28.931\n",
       "Sector_Aerospace & Defense                            5.5154      3.103      1.777      0.076      -0.579      11.610\n",
       "Sector_Agriculture & Forestry                        -0.8840     12.656     -0.070      0.944     -25.740      23.972\n",
       "Sector_Arts, Entertainment & Recreation              -9.3034      6.523     -1.426      0.154     -22.114       3.507\n",
       "Sector_Biotech & Pharmaceuticals                      6.4081      2.044      3.135      0.002       2.394      10.422\n",
       "Sector_Business Services                             -4.3005      4.208     -1.022      0.307     -12.565       3.964\n",
       "Sector_Construction, Repair & Maintenance           -15.6896     10.567     -1.485      0.138     -36.442       5.063\n",
       "Sector_Consumer Services                             -4.7218      9.426     -0.501      0.617     -23.235      13.791\n",
       "Sector_Education                                     -2.4592      6.840     -0.360      0.719     -15.892      10.973\n",
       "Sector_Finance                                       13.1531      4.516      2.912      0.004       4.283      22.023\n",
       "Sector_Government                                     8.3755      5.212      1.607      0.109      -1.860      18.612\n",
       "Sector_Health Care                                    5.8228      2.915      1.997      0.046       0.097      11.548\n",
       "Sector_Information Technology                        10.0713      2.777      3.627      0.000       4.618      15.524\n",
       "Sector_Insurance                                      1.6298      3.943      0.413      0.679      -6.113       9.373\n",
       "Sector_Manufacturing                                 -1.5587      6.910     -0.226      0.822     -15.129      12.012\n",
       "Sector_Media                                         15.7888      8.724      1.810      0.071      -1.344      32.921\n",
       "Sector_Mining & Metals                              -11.6101     10.724     -1.083      0.279     -32.672       9.451\n",
       "Sector_Non-Profit                                    15.0167      8.924      1.683      0.093      -2.510      32.544\n",
       "Sector_Oil, Gas, Energy & Utilities                  -4.2058      7.679     -0.548      0.584     -19.287      10.875\n",
       "Sector_Real Estate                                   -2.3699      4.959     -0.478      0.633     -12.109       7.369\n",
       "Sector_Retail                                         7.6981      7.171      1.073      0.284      -6.386      21.782\n",
       "Sector_Telecommunications                             4.2888      7.813      0.549      0.583     -11.056      19.634\n",
       "Sector_Transportation & Logistics                     3.5854      8.052      0.445      0.656     -12.229      19.399\n",
       "Sector_Travel & Tourism                              -5.5776      5.252     -1.062      0.289     -15.893       4.738\n",
       "Revenue_$1 to $2 billion (USD)                        2.8233      4.793      0.589      0.556      -6.591      12.237\n",
       "Revenue_$1 to $5 million (USD)                       -5.5930     10.966     -0.510      0.610     -27.130      15.944\n",
       "Revenue_$10 to $25 million (USD)                     -4.8939      5.226     -0.936      0.349     -15.157       5.369\n",
       "Revenue_$10+ billion (USD)                           10.4051      6.402      1.625      0.105      -2.168      22.978\n",
       "Revenue_$100 to $500 million (USD)                   -5.2050      4.057     -1.283      0.200     -13.173       2.763\n",
       "Revenue_$2 to $5 billion (USD)                        0.1164      6.277      0.019      0.985     -12.212      12.444\n",
       "Revenue_$25 to $50 million (USD)                     -5.2822      5.374     -0.983      0.326     -15.836       5.272\n",
       "Revenue_$5 to $10 billion (USD)                       6.6741      7.871      0.848      0.397      -8.785      22.133\n",
       "Revenue_$5 to $10 million (USD)                      31.6942      8.320      3.809      0.000      15.354      48.034\n",
       "Revenue_$50 to $100 million (USD)                     5.2867      4.967      1.064      0.288      -4.468      15.042\n",
       "Revenue_$500 million to $1 billion (USD)             -1.8457      5.315     -0.347      0.729     -12.283       8.592\n",
       "Revenue_-1                                           13.5666      8.631      1.572      0.117      -3.383      30.517\n",
       "Revenue_Less than $1 million (USD)                   -4.3891     15.210     -0.289      0.773     -34.260      25.482\n",
       "Revenue_Unknown / Non-Applicable                     -0.4446      3.062     -0.145      0.885      -6.458       5.568\n",
       "job_state_AL                                         -6.0391     10.470     -0.577      0.564     -26.601      14.523\n",
       "job_state_AZ                                        -14.0067      8.627     -1.624      0.105     -30.950       2.937\n",
       "job_state_CA                                         26.7006      3.156      8.461      0.000      20.503      32.898\n",
       "job_state_CO                                          7.9720      8.301      0.960      0.337      -8.330      24.274\n",
       "job_state_CT                                        -23.7631     11.367     -2.090      0.037     -46.088      -1.438\n",
       "job_state_DC                                         13.0836      8.065      1.622      0.105      -2.757      28.924\n",
       "job_state_DE                                          9.6766     13.857      0.698      0.485     -17.537      36.890\n",
       "job_state_FL                                        -15.9829      7.631     -2.094      0.037     -30.970      -0.995\n",
       "job_state_GA                                        -18.5819     10.117     -1.837      0.067     -38.452       1.288\n",
       "job_state_IA                                         -2.5141     12.449     -0.202      0.840     -26.964      21.936\n",
       "job_state_ID                                        -24.4535     18.302     -1.336      0.182     -60.396      11.490\n",
       "job_state_IL                                          9.0296      5.035      1.793      0.073      -0.858      18.918\n",
       "job_state_IN                                        -10.3913      8.819     -1.178      0.239     -27.711       6.928\n",
       "job_state_KS                                        -15.1806      7.891     -1.924      0.055     -30.678       0.316\n",
       "job_state_KY                                         19.8326     12.363      1.604      0.109      -4.448      44.113\n",
       "job_state_LA                                         -6.3326     13.080     -0.484      0.628     -32.022      19.356\n",
       "job_state_MA                                          2.7650      3.872      0.714      0.475      -4.839      10.369\n",
       "job_state_MD                                          7.7849      4.925      1.581      0.114      -1.887      17.457\n",
       "job_state_MI                                          7.2005     12.318      0.585      0.559     -16.991      31.392\n",
       "job_state_MN                                          8.2392     17.269      0.477      0.633     -25.677      42.155\n",
       "job_state_MO                                          9.9106      9.858      1.005      0.315      -9.451      29.272\n",
       "job_state_NC                                         -3.9448      6.753     -0.584      0.559     -17.208       9.318\n",
       "job_state_NE                                         -2.9258     13.454     -0.217      0.828     -29.349      23.497\n",
       "job_state_NJ                                          1.1442      6.823      0.168      0.867     -12.257      14.545\n",
       "job_state_NM                                        -30.4352     14.491     -2.100      0.036     -58.894      -1.977\n",
       "job_state_NY                                          5.7713      4.024      1.434      0.152      -2.132      13.675\n",
       "job_state_OH                                         -0.5451      8.173     -0.067      0.947     -16.596      15.506\n",
       "job_state_OR                                          2.2890     12.656      0.181      0.857     -22.566      27.144\n",
       "job_state_PA                                          9.9076      7.195      1.377      0.169      -4.223      24.039\n",
       "job_state_RI                                         40.0147     24.709      1.619      0.106      -8.512      88.542\n",
       "job_state_SC                                         30.6343     29.341      1.044      0.297     -26.990      88.259\n",
       "job_state_TN                                         -6.0948      9.285     -0.656      0.512     -24.331      12.141\n",
       "job_state_TX                                          0.5431      5.645      0.096      0.923     -10.543      11.629\n",
       "job_state_UT                                          3.0322     14.829      0.204      0.838     -26.091      32.156\n",
       "job_state_VA                                         -0.0245      5.012     -0.005      0.996      -9.868       9.819\n",
       "job_state_WA                                         12.7416      8.148      1.564      0.118      -3.261      28.744\n",
       "job_state_WI                                         -4.1443     10.119     -0.410      0.682     -24.017      15.728\n",
       "job_simp_analyst                                    -31.5131      3.352     -9.400      0.000     -38.097     -24.929\n",
       "job_simp_data engineer                                2.0879      3.204      0.652      0.515      -4.205       8.381\n",
       "job_simp_data scientist                               8.0678      2.524      3.196      0.001       3.111      13.025\n",
       "job_simp_director                                    68.5048      6.601     10.377      0.000      55.540      81.470\n",
       "job_simp_manager                                    -14.6559      5.610     -2.612      0.009     -25.674      -3.638\n",
       "job_simp_mle                                         21.6451      6.023      3.593      0.000       9.815      33.475\n",
       "job_simp_na                                         -11.2236      2.959     -3.793      0.000     -17.034      -5.413\n",
       "seniority_jr                                          9.7735     11.063      0.883      0.377     -11.953      31.501\n",
       "seniority_na                                          3.6507      4.394      0.831      0.406      -4.979      12.281\n",
       "seniority_senior                                     29.4887      4.650      6.342      0.000      20.357      38.621\n",
       "==============================================================================\n",
       "Omnibus:                       71.990   Durbin-Watson:                   2.047\n",
       "Prob(Omnibus):                  0.000   Jarque-Bera (JB):              302.118\n",
       "Skew:                           0.337   Prob(JB):                     2.49e-66\n",
       "Kurtosis:                       6.052   Cond. No.                     2.35e+19\n",
       "==============================================================================\n",
       "\n",
       "Notes:\n",
       "[1] Standard Errors assume that the covariance matrix of the errors is correctly specified.\n",
       "[2] The smallest eigenvalue is 2.32e-29. This might indicate that there are\n",
       "strong multicollinearity problems or that the design matrix is singular.\n",
       "\"\"\""
      ],
      "text/html": "<table class=\"simpletable\">\n<caption>OLS Regression Results</caption>\n<tr>\n  <th>Dep. Variable:</th>            <td>y</td>        <th>  R-squared:         </th> <td>   0.708</td>\n</tr>\n<tr>\n  <th>Model:</th>                   <td>OLS</td>       <th>  Adj. R-squared:    </th> <td>   0.638</td>\n</tr>\n<tr>\n  <th>Method:</th>             <td>Least Squares</td>  <th>  F-statistic:       </th> <td>   10.21</td>\n</tr>\n<tr>\n  <th>Date:</th>             <td>Sat, 17 Jul 2021</td> <th>  Prob (F-statistic):</th> <td>1.55e-94</td>\n</tr>\n<tr>\n  <th>Time:</th>                 <td>10:56:23</td>     <th>  Log-Likelihood:    </th> <td> -3311.7</td>\n</tr>\n<tr>\n  <th>No. Observations:</th>      <td>   742</td>      <th>  AIC:               </th> <td>   6909.</td>\n</tr>\n<tr>\n  <th>Df Residuals:</th>          <td>   599</td>      <th>  BIC:               </th> <td>   7569.</td>\n</tr>\n<tr>\n  <th>Df Model:</th>              <td>   142</td>      <th>                     </th>     <td> </td>   \n</tr>\n<tr>\n  <th>Covariance Type:</th>      <td>nonrobust</td>    <th>                     </th>     <td> </td>   \n</tr>\n</table>\n<table class=\"simpletable\">\n<tr>\n                          <td></td>                             <th>coef</th>     <th>std err</th>      <th>t</th>      <th>P>|t|</th>  <th>[0.025</th>    <th>0.975]</th>  \n</tr>\n<tr>\n  <th>const</th>                                             <td>   42.9129</td> <td>    6.383</td> <td>    6.723</td> <td> 0.000</td> <td>   30.377</td> <td>   55.448</td>\n</tr>\n<tr>\n  <th>Rating</th>                                            <td>    3.6550</td> <td>    1.932</td> <td>    1.891</td> <td> 0.059</td> <td>   -0.140</td> <td>    7.450</td>\n</tr>\n<tr>\n  <th>num_comp</th>                                          <td>    2.2543</td> <td>    0.869</td> <td>    2.594</td> <td> 0.010</td> <td>    0.548</td> <td>    3.961</td>\n</tr>\n<tr>\n  <th>hourly</th>                                            <td>  -36.4955</td> <td>    9.192</td> <td>   -3.971</td> <td> 0.000</td> <td>  -54.547</td> <td>  -18.444</td>\n</tr>\n<tr>\n  <th>employer_provided</th>                                 <td>   31.6473</td> <td>   11.509</td> <td>    2.750</td> <td> 0.006</td> <td>    9.043</td> <td>   54.251</td>\n</tr>\n<tr>\n  <th>same_state</th>                                        <td>    2.4907</td> <td>    2.619</td> <td>    0.951</td> <td> 0.342</td> <td>   -2.653</td> <td>    7.635</td>\n</tr>\n<tr>\n  <th>age</th>                                               <td>    0.0342</td> <td>    0.030</td> <td>    1.134</td> <td> 0.257</td> <td>   -0.025</td> <td>    0.093</td>\n</tr>\n<tr>\n  <th>python_yn</th>                                         <td>    8.1510</td> <td>    2.524</td> <td>    3.230</td> <td> 0.001</td> <td>    3.194</td> <td>   13.108</td>\n</tr>\n<tr>\n  <th>spark</th>                                             <td>   -0.5554</td> <td>    2.920</td> <td>   -0.190</td> <td> 0.849</td> <td>   -6.291</td> <td>    5.180</td>\n</tr>\n<tr>\n  <th>aws</th>                                               <td>    1.1245</td> <td>    2.737</td> <td>    0.411</td> <td> 0.681</td> <td>   -4.250</td> <td>    6.500</td>\n</tr>\n<tr>\n  <th>excel</th>                                             <td>   -0.4022</td> <td>    2.269</td> <td>   -0.177</td> <td> 0.859</td> <td>   -4.859</td> <td>    4.055</td>\n</tr>\n<tr>\n  <th>desc_len</th>                                          <td>   -0.0001</td> <td>    0.001</td> <td>   -0.172</td> <td> 0.863</td> <td>   -0.002</td> <td>    0.001</td>\n</tr>\n<tr>\n  <th>Size_-1</th>                                           <td>   13.5666</td> <td>    8.631</td> <td>    1.572</td> <td> 0.117</td> <td>   -3.383</td> <td>   30.517</td>\n</tr>\n<tr>\n  <th>Size_1 to 50 employees</th>                            <td>    0.9719</td> <td>    6.489</td> <td>    0.150</td> <td> 0.881</td> <td>  -11.771</td> <td>   13.715</td>\n</tr>\n<tr>\n  <th>Size_10000+ employees</th>                             <td>   -2.9433</td> <td>    5.798</td> <td>   -0.508</td> <td> 0.612</td> <td>  -14.331</td> <td>    8.444</td>\n</tr>\n<tr>\n  <th>Size_1001 to 5000 employees</th>                       <td>    6.0728</td> <td>    3.875</td> <td>    1.567</td> <td> 0.118</td> <td>   -1.538</td> <td>   13.684</td>\n</tr>\n<tr>\n  <th>Size_201 to 500 employees</th>                         <td>    2.1759</td> <td>    3.867</td> <td>    0.563</td> <td> 0.574</td> <td>   -5.419</td> <td>    9.771</td>\n</tr>\n<tr>\n  <th>Size_5001 to 10000 employees</th>                      <td>   -3.9273</td> <td>    5.440</td> <td>   -0.722</td> <td> 0.471</td> <td>  -14.612</td> <td>    6.757</td>\n</tr>\n<tr>\n  <th>Size_501 to 1000 employees</th>                        <td>    2.0146</td> <td>    4.048</td> <td>    0.498</td> <td> 0.619</td> <td>   -5.935</td> <td>    9.964</td>\n</tr>\n<tr>\n  <th>Size_51 to 200 employees</th>                          <td>    4.0596</td> <td>    4.405</td> <td>    0.922</td> <td> 0.357</td> <td>   -4.592</td> <td>   12.711</td>\n</tr>\n<tr>\n  <th>Size_Unknown</th>                                      <td>   20.9221</td> <td>   14.009</td> <td>    1.494</td> <td> 0.136</td> <td>   -6.590</td> <td>   48.434</td>\n</tr>\n<tr>\n  <th>Type of ownership_-1</th>                              <td>   13.5666</td> <td>    8.631</td> <td>    1.572</td> <td> 0.117</td> <td>   -3.383</td> <td>   30.517</td>\n</tr>\n<tr>\n  <th>Type of ownership_College / University</th>            <td>    6.1638</td> <td>   17.728</td> <td>    0.348</td> <td> 0.728</td> <td>  -28.653</td> <td>   40.981</td>\n</tr>\n<tr>\n  <th>Type of ownership_Company - Private</th>               <td>    8.6496</td> <td>    5.247</td> <td>    1.648</td> <td> 0.100</td> <td>   -1.656</td> <td>   18.955</td>\n</tr>\n<tr>\n  <th>Type of ownership_Company - Public</th>                <td>   13.2929</td> <td>    5.704</td> <td>    2.331</td> <td> 0.020</td> <td>    2.091</td> <td>   24.494</td>\n</tr>\n<tr>\n  <th>Type of ownership_Government</th>                      <td>  -15.5595</td> <td>   15.297</td> <td>   -1.017</td> <td> 0.309</td> <td>  -45.601</td> <td>   14.482</td>\n</tr>\n<tr>\n  <th>Type of ownership_Hospital</th>                        <td>   -7.0573</td> <td>    9.967</td> <td>   -0.708</td> <td> 0.479</td> <td>  -26.631</td> <td>   12.516</td>\n</tr>\n<tr>\n  <th>Type of ownership_Nonprofit Organization</th>          <td>  -10.0978</td> <td>    6.702</td> <td>   -1.507</td> <td> 0.132</td> <td>  -23.261</td> <td>    3.065</td>\n</tr>\n<tr>\n  <th>Type of ownership_Other Organization</th>              <td>   -6.1100</td> <td>   14.342</td> <td>   -0.426</td> <td> 0.670</td> <td>  -34.277</td> <td>   22.058</td>\n</tr>\n<tr>\n  <th>Type of ownership_School / School District</th>        <td>   -5.9558</td> <td>   23.799</td> <td>   -0.250</td> <td> 0.802</td> <td>  -52.696</td> <td>   40.785</td>\n</tr>\n<tr>\n  <th>Type of ownership_Subsidiary or Business Segment</th>  <td>   12.8198</td> <td>    6.933</td> <td>    1.849</td> <td> 0.065</td> <td>   -0.797</td> <td>   26.437</td>\n</tr>\n<tr>\n  <th>Type of ownership_Unknown</th>                         <td>   33.2005</td> <td>   28.611</td> <td>    1.160</td> <td> 0.246</td> <td>  -22.990</td> <td>   89.392</td>\n</tr>\n<tr>\n  <th>Industry_-1</th>                                       <td>    5.7949</td> <td>    7.943</td> <td>    0.730</td> <td> 0.466</td> <td>   -9.805</td> <td>   21.394</td>\n</tr>\n<tr>\n  <th>Industry_Accounting</th>                               <td>    2.4448</td> <td>   13.486</td> <td>    0.181</td> <td> 0.856</td> <td>  -24.041</td> <td>   28.931</td>\n</tr>\n<tr>\n  <th>Industry_Advertising & Marketing</th>                  <td>   11.8022</td> <td>    5.961</td> <td>    1.980</td> <td> 0.048</td> <td>    0.096</td> <td>   23.509</td>\n</tr>\n<tr>\n  <th>Industry_Aerospace & Defense</th>                      <td>    5.5154</td> <td>    3.103</td> <td>    1.777</td> <td> 0.076</td> <td>   -0.579</td> <td>   11.610</td>\n</tr>\n<tr>\n  <th>Industry_Architectural & Engineering Services</th>     <td>  -32.4525</td> <td>   15.937</td> <td>   -2.036</td> <td> 0.042</td> <td>  -63.751</td> <td>   -1.154</td>\n</tr>\n<tr>\n  <th>Industry_Auctions & Galleries</th>                     <td>    9.3811</td> <td>   22.880</td> <td>    0.410</td> <td> 0.682</td> <td>  -35.553</td> <td>   54.315</td>\n</tr>\n<tr>\n  <th>Industry_Banks & Credit Unions</th>                    <td>  -16.9190</td> <td>    8.055</td> <td>   -2.100</td> <td> 0.036</td> <td>  -32.739</td> <td>   -1.099</td>\n</tr>\n<tr>\n  <th>Industry_Beauty & Personal Accessories Stores</th>     <td>   15.6296</td> <td>   21.566</td> <td>    0.725</td> <td> 0.469</td> <td>  -26.725</td> <td>   57.984</td>\n</tr>\n<tr>\n  <th>Industry_Biotech & Pharmaceuticals</th>                <td>    6.4081</td> <td>    2.044</td> <td>    3.135</td> <td> 0.002</td> <td>    2.394</td> <td>   10.422</td>\n</tr>\n<tr>\n  <th>Industry_Brokerage Services</th>                       <td>   28.0966</td> <td>   15.523</td> <td>    1.810</td> <td> 0.071</td> <td>   -2.390</td> <td>   58.584</td>\n</tr>\n<tr>\n  <th>Industry_Colleges & Universities</th>                  <td>   11.0667</td> <td>   13.013</td> <td>    0.850</td> <td> 0.395</td> <td>  -14.489</td> <td>   36.623</td>\n</tr>\n<tr>\n  <th>Industry_Computer Hardware & Software</th>             <td>   -0.9465</td> <td>    3.250</td> <td>   -0.291</td> <td> 0.771</td> <td>   -7.329</td> <td>    5.436</td>\n</tr>\n<tr>\n  <th>Industry_Construction</th>                             <td>  -15.6896</td> <td>   10.567</td> <td>   -1.485</td> <td> 0.138</td> <td>  -36.442</td> <td>    5.063</td>\n</tr>\n<tr>\n  <th>Industry_Consulting</th>                               <td>   12.9249</td> <td>    5.902</td> <td>    2.190</td> <td> 0.029</td> <td>    1.334</td> <td>   24.516</td>\n</tr>\n<tr>\n  <th>Industry_Consumer Product Rental</th>                  <td>   -2.4472</td> <td>   13.018</td> <td>   -0.188</td> <td> 0.851</td> <td>  -28.014</td> <td>   23.120</td>\n</tr>\n<tr>\n  <th>Industry_Consumer Products Manufacturing</th>          <td>   13.7766</td> <td>    9.858</td> <td>    1.397</td> <td> 0.163</td> <td>   -5.584</td> <td>   33.138</td>\n</tr>\n<tr>\n  <th>Industry_Department, Clothing, & Shoe Stores</th>      <td>    4.7983</td> <td>   11.580</td> <td>    0.414</td> <td> 0.679</td> <td>  -17.945</td> <td>   27.541</td>\n</tr>\n<tr>\n  <th>Industry_Education Training Services</th>              <td>  -23.5551</td> <td>   12.529</td> <td>   -1.880</td> <td> 0.061</td> <td>  -48.161</td> <td>    1.051</td>\n</tr>\n<tr>\n  <th>Industry_Energy</th>                                   <td>   -4.2058</td> <td>    7.679</td> <td>   -0.548</td> <td> 0.584</td> <td>  -19.287</td> <td>   10.875</td>\n</tr>\n<tr>\n  <th>Industry_Enterprise Software & Network Solutions</th>  <td>    9.5082</td> <td>    3.593</td> <td>    2.646</td> <td> 0.008</td> <td>    2.452</td> <td>   16.565</td>\n</tr>\n<tr>\n  <th>Industry_Farm Support Services</th>                    <td>   -0.8840</td> <td>   12.656</td> <td>   -0.070</td> <td> 0.944</td> <td>  -25.740</td> <td>   23.972</td>\n</tr>\n<tr>\n  <th>Industry_Federal Agencies</th>                         <td>    8.3755</td> <td>    5.212</td> <td>    1.607</td> <td> 0.109</td> <td>   -1.860</td> <td>   18.612</td>\n</tr>\n<tr>\n  <th>Industry_Financial Analytics & Research</th>           <td>    0.3353</td> <td>    9.197</td> <td>    0.036</td> <td> 0.971</td> <td>  -17.728</td> <td>   18.398</td>\n</tr>\n<tr>\n  <th>Industry_Financial Transaction Processing</th>         <td>  -17.4893</td> <td>   12.896</td> <td>   -1.356</td> <td> 0.176</td> <td>  -42.816</td> <td>    7.837</td>\n</tr>\n<tr>\n  <th>Industry_Food & Beverage Manufacturing</th>            <td>   -3.0871</td> <td>   11.579</td> <td>   -0.267</td> <td> 0.790</td> <td>  -25.828</td> <td>   19.654</td>\n</tr>\n<tr>\n  <th>Industry_Gambling</th>                                 <td>   -9.3034</td> <td>    6.523</td> <td>   -1.426</td> <td> 0.154</td> <td>  -22.114</td> <td>    3.507</td>\n</tr>\n<tr>\n  <th>Industry_Gas Stations</th>                             <td>  -24.4471</td> <td>   15.553</td> <td>   -1.572</td> <td> 0.117</td> <td>  -54.992</td> <td>    6.097</td>\n</tr>\n<tr>\n  <th>Industry_Health Care Products Manufacturing</th>       <td>   21.0157</td> <td>   22.127</td> <td>    0.950</td> <td> 0.343</td> <td>  -22.440</td> <td>   64.471</td>\n</tr>\n<tr>\n  <th>Industry_Health Care Services & Hospitals</th>         <td>    5.8228</td> <td>    2.915</td> <td>    1.997</td> <td> 0.046</td> <td>    0.097</td> <td>   11.548</td>\n</tr>\n<tr>\n  <th>Industry_Health, Beauty, & Fitness</th>                <td>   -2.2747</td> <td>   17.436</td> <td>   -0.130</td> <td> 0.896</td> <td>  -36.519</td> <td>   31.969</td>\n</tr>\n<tr>\n  <th>Industry_IT Services</th>                              <td>    1.1886</td> <td>    3.580</td> <td>    0.332</td> <td> 0.740</td> <td>   -5.843</td> <td>    8.220</td>\n</tr>\n<tr>\n  <th>Industry_Industrial Manufacturing</th>                 <td>  -13.9501</td> <td>   12.831</td> <td>   -1.087</td> <td> 0.277</td> <td>  -39.149</td> <td>   11.249</td>\n</tr>\n<tr>\n  <th>Industry_Insurance Agencies & Brokerages</th>          <td>   -3.9005</td> <td>    7.007</td> <td>   -0.557</td> <td> 0.578</td> <td>  -17.661</td> <td>    9.860</td>\n</tr>\n<tr>\n  <th>Industry_Insurance Carriers</th>                       <td>    5.5303</td> <td>    4.488</td> <td>    1.232</td> <td> 0.218</td> <td>   -3.285</td> <td>   14.345</td>\n</tr>\n<tr>\n  <th>Industry_Internet</th>                                 <td>    0.3210</td> <td>    4.516</td> <td>    0.071</td> <td> 0.943</td> <td>   -8.547</td> <td>    9.189</td>\n</tr>\n<tr>\n  <th>Industry_Investment Banking & Asset Management</th>    <td>   35.9861</td> <td>   12.088</td> <td>    2.977</td> <td> 0.003</td> <td>   12.245</td> <td>   59.727</td>\n</tr>\n<tr>\n  <th>Industry_K-12 Education</th>                           <td>   10.0292</td> <td>   14.785</td> <td>    0.678</td> <td> 0.498</td> <td>  -19.008</td> <td>   39.066</td>\n</tr>\n<tr>\n  <th>Industry_Lending</th>                                  <td>   -1.6760</td> <td>    9.860</td> <td>   -0.170</td> <td> 0.865</td> <td>  -21.041</td> <td>   17.689</td>\n</tr>\n<tr>\n  <th>Industry_Logistics & Supply Chain</th>                 <td>    1.5416</td> <td>   13.414</td> <td>    0.115</td> <td> 0.909</td> <td>  -24.803</td> <td>   27.886</td>\n</tr>\n<tr>\n  <th>Industry_Metals Brokers</th>                           <td>   -7.7311</td> <td>   15.600</td> <td>   -0.496</td> <td> 0.620</td> <td>  -38.369</td> <td>   22.907</td>\n</tr>\n<tr>\n  <th>Industry_Mining</th>                                   <td>   -3.8789</td> <td>   17.964</td> <td>   -0.216</td> <td> 0.829</td> <td>  -39.159</td> <td>   31.401</td>\n</tr>\n<tr>\n  <th>Industry_Motion Picture Production & Distribution</th> <td>   46.0803</td> <td>   19.609</td> <td>    2.350</td> <td> 0.019</td> <td>    7.569</td> <td>   84.591</td>\n</tr>\n<tr>\n  <th>Industry_Other Retail Stores</th>                      <td>   40.0587</td> <td>   21.696</td> <td>    1.846</td> <td> 0.065</td> <td>   -2.552</td> <td>   82.669</td>\n</tr>\n<tr>\n  <th>Industry_Real Estate</th>                              <td>   -2.3699</td> <td>    4.959</td> <td>   -0.478</td> <td> 0.633</td> <td>  -12.109</td> <td>    7.369</td>\n</tr>\n<tr>\n  <th>Industry_Religious Organizations</th>                  <td>   26.0704</td> <td>   13.712</td> <td>    1.901</td> <td> 0.058</td> <td>   -0.858</td> <td>   52.999</td>\n</tr>\n<tr>\n  <th>Industry_Research & Development</th>                   <td>   -3.0015</td> <td>    6.548</td> <td>   -0.458</td> <td> 0.647</td> <td>  -15.861</td> <td>    9.858</td>\n</tr>\n<tr>\n  <th>Industry_Security Services</th>                        <td>   14.3346</td> <td>    9.792</td> <td>    1.464</td> <td> 0.144</td> <td>   -4.896</td> <td>   33.565</td>\n</tr>\n<tr>\n  <th>Industry_Social Assistance</th>                        <td>  -11.0537</td> <td>   11.794</td> <td>   -0.937</td> <td> 0.349</td> <td>  -34.216</td> <td>   12.109</td>\n</tr>\n<tr>\n  <th>Industry_Sporting Goods Stores</th>                    <td>  -37.7224</td> <td>   17.835</td> <td>   -2.115</td> <td> 0.035</td> <td>  -72.749</td> <td>   -2.696</td>\n</tr>\n<tr>\n  <th>Industry_Staffing & Outsourcing</th>                   <td>   -5.7177</td> <td>   10.989</td> <td>   -0.520</td> <td> 0.603</td> <td>  -27.298</td> <td>   15.863</td>\n</tr>\n<tr>\n  <th>Industry_Stock Exchanges</th>                          <td>  -15.1806</td> <td>    7.891</td> <td>   -1.924</td> <td> 0.055</td> <td>  -30.678</td> <td>    0.316</td>\n</tr>\n<tr>\n  <th>Industry_TV Broadcast & Cable Networks</th>            <td>   -0.0530</td> <td>   15.542</td> <td>   -0.003</td> <td> 0.997</td> <td>  -30.576</td> <td>   30.470</td>\n</tr>\n<tr>\n  <th>Industry_Telecommunications Manufacturing</th>         <td>    4.2453</td> <td>   13.670</td> <td>    0.311</td> <td> 0.756</td> <td>  -22.601</td> <td>   31.092</td>\n</tr>\n<tr>\n  <th>Industry_Telecommunications Services</th>              <td>    0.0435</td> <td>   11.267</td> <td>    0.004</td> <td> 0.997</td> <td>  -22.083</td> <td>   22.170</td>\n</tr>\n<tr>\n  <th>Industry_Transportation Equipment Manufacturing</th>   <td>  -19.3139</td> <td>   23.723</td> <td>   -0.814</td> <td> 0.416</td> <td>  -65.904</td> <td>   27.277</td>\n</tr>\n<tr>\n  <th>Industry_Transportation Management</th>                <td>  -20.7518</td> <td>   14.031</td> <td>   -1.479</td> <td> 0.140</td> <td>  -48.307</td> <td>    6.803</td>\n</tr>\n<tr>\n  <th>Industry_Travel Agencies</th>                          <td>   -5.5776</td> <td>    5.252</td> <td>   -1.062</td> <td> 0.289</td> <td>  -15.893</td> <td>    4.738</td>\n</tr>\n<tr>\n  <th>Industry_Trucking</th>                                 <td>   22.7956</td> <td>   19.853</td> <td>    1.148</td> <td> 0.251</td> <td>  -16.195</td> <td>   61.786</td>\n</tr>\n<tr>\n  <th>Industry_Video Games</th>                              <td>  -30.2386</td> <td>   14.430</td> <td>   -2.096</td> <td> 0.037</td> <td>  -58.578</td> <td>   -1.900</td>\n</tr>\n<tr>\n  <th>Industry_Wholesale</th>                                <td>   -2.1906</td> <td>   13.110</td> <td>   -0.167</td> <td> 0.867</td> <td>  -27.938</td> <td>   23.557</td>\n</tr>\n<tr>\n  <th>Sector_-1</th>                                         <td>    5.7949</td> <td>    7.943</td> <td>    0.730</td> <td> 0.466</td> <td>   -9.805</td> <td>   21.394</td>\n</tr>\n<tr>\n  <th>Sector_Accounting & Legal</th>                         <td>    2.4448</td> <td>   13.486</td> <td>    0.181</td> <td> 0.856</td> <td>  -24.041</td> <td>   28.931</td>\n</tr>\n<tr>\n  <th>Sector_Aerospace & Defense</th>                        <td>    5.5154</td> <td>    3.103</td> <td>    1.777</td> <td> 0.076</td> <td>   -0.579</td> <td>   11.610</td>\n</tr>\n<tr>\n  <th>Sector_Agriculture & Forestry</th>                     <td>   -0.8840</td> <td>   12.656</td> <td>   -0.070</td> <td> 0.944</td> <td>  -25.740</td> <td>   23.972</td>\n</tr>\n<tr>\n  <th>Sector_Arts, Entertainment & Recreation</th>           <td>   -9.3034</td> <td>    6.523</td> <td>   -1.426</td> <td> 0.154</td> <td>  -22.114</td> <td>    3.507</td>\n</tr>\n<tr>\n  <th>Sector_Biotech & Pharmaceuticals</th>                  <td>    6.4081</td> <td>    2.044</td> <td>    3.135</td> <td> 0.002</td> <td>    2.394</td> <td>   10.422</td>\n</tr>\n<tr>\n  <th>Sector_Business Services</th>                          <td>   -4.3005</td> <td>    4.208</td> <td>   -1.022</td> <td> 0.307</td> <td>  -12.565</td> <td>    3.964</td>\n</tr>\n<tr>\n  <th>Sector_Construction, Repair & Maintenance</th>         <td>  -15.6896</td> <td>   10.567</td> <td>   -1.485</td> <td> 0.138</td> <td>  -36.442</td> <td>    5.063</td>\n</tr>\n<tr>\n  <th>Sector_Consumer Services</th>                          <td>   -4.7218</td> <td>    9.426</td> <td>   -0.501</td> <td> 0.617</td> <td>  -23.235</td> <td>   13.791</td>\n</tr>\n<tr>\n  <th>Sector_Education</th>                                  <td>   -2.4592</td> <td>    6.840</td> <td>   -0.360</td> <td> 0.719</td> <td>  -15.892</td> <td>   10.973</td>\n</tr>\n<tr>\n  <th>Sector_Finance</th>                                    <td>   13.1531</td> <td>    4.516</td> <td>    2.912</td> <td> 0.004</td> <td>    4.283</td> <td>   22.023</td>\n</tr>\n<tr>\n  <th>Sector_Government</th>                                 <td>    8.3755</td> <td>    5.212</td> <td>    1.607</td> <td> 0.109</td> <td>   -1.860</td> <td>   18.612</td>\n</tr>\n<tr>\n  <th>Sector_Health Care</th>                                <td>    5.8228</td> <td>    2.915</td> <td>    1.997</td> <td> 0.046</td> <td>    0.097</td> <td>   11.548</td>\n</tr>\n<tr>\n  <th>Sector_Information Technology</th>                     <td>   10.0713</td> <td>    2.777</td> <td>    3.627</td> <td> 0.000</td> <td>    4.618</td> <td>   15.524</td>\n</tr>\n<tr>\n  <th>Sector_Insurance</th>                                  <td>    1.6298</td> <td>    3.943</td> <td>    0.413</td> <td> 0.679</td> <td>   -6.113</td> <td>    9.373</td>\n</tr>\n<tr>\n  <th>Sector_Manufacturing</th>                              <td>   -1.5587</td> <td>    6.910</td> <td>   -0.226</td> <td> 0.822</td> <td>  -15.129</td> <td>   12.012</td>\n</tr>\n<tr>\n  <th>Sector_Media</th>                                      <td>   15.7888</td> <td>    8.724</td> <td>    1.810</td> <td> 0.071</td> <td>   -1.344</td> <td>   32.921</td>\n</tr>\n<tr>\n  <th>Sector_Mining & Metals</th>                            <td>  -11.6101</td> <td>   10.724</td> <td>   -1.083</td> <td> 0.279</td> <td>  -32.672</td> <td>    9.451</td>\n</tr>\n<tr>\n  <th>Sector_Non-Profit</th>                                 <td>   15.0167</td> <td>    8.924</td> <td>    1.683</td> <td> 0.093</td> <td>   -2.510</td> <td>   32.544</td>\n</tr>\n<tr>\n  <th>Sector_Oil, Gas, Energy & Utilities</th>               <td>   -4.2058</td> <td>    7.679</td> <td>   -0.548</td> <td> 0.584</td> <td>  -19.287</td> <td>   10.875</td>\n</tr>\n<tr>\n  <th>Sector_Real Estate</th>                                <td>   -2.3699</td> <td>    4.959</td> <td>   -0.478</td> <td> 0.633</td> <td>  -12.109</td> <td>    7.369</td>\n</tr>\n<tr>\n  <th>Sector_Retail</th>                                     <td>    7.6981</td> <td>    7.171</td> <td>    1.073</td> <td> 0.284</td> <td>   -6.386</td> <td>   21.782</td>\n</tr>\n<tr>\n  <th>Sector_Telecommunications</th>                         <td>    4.2888</td> <td>    7.813</td> <td>    0.549</td> <td> 0.583</td> <td>  -11.056</td> <td>   19.634</td>\n</tr>\n<tr>\n  <th>Sector_Transportation & Logistics</th>                 <td>    3.5854</td> <td>    8.052</td> <td>    0.445</td> <td> 0.656</td> <td>  -12.229</td> <td>   19.399</td>\n</tr>\n<tr>\n  <th>Sector_Travel & Tourism</th>                           <td>   -5.5776</td> <td>    5.252</td> <td>   -1.062</td> <td> 0.289</td> <td>  -15.893</td> <td>    4.738</td>\n</tr>\n<tr>\n  <th>Revenue_$1 to $2 billion (USD)</th>                    <td>    2.8233</td> <td>    4.793</td> <td>    0.589</td> <td> 0.556</td> <td>   -6.591</td> <td>   12.237</td>\n</tr>\n<tr>\n  <th>Revenue_$1 to $5 million (USD)</th>                    <td>   -5.5930</td> <td>   10.966</td> <td>   -0.510</td> <td> 0.610</td> <td>  -27.130</td> <td>   15.944</td>\n</tr>\n<tr>\n  <th>Revenue_$10 to $25 million (USD)</th>                  <td>   -4.8939</td> <td>    5.226</td> <td>   -0.936</td> <td> 0.349</td> <td>  -15.157</td> <td>    5.369</td>\n</tr>\n<tr>\n  <th>Revenue_$10+ billion (USD)</th>                        <td>   10.4051</td> <td>    6.402</td> <td>    1.625</td> <td> 0.105</td> <td>   -2.168</td> <td>   22.978</td>\n</tr>\n<tr>\n  <th>Revenue_$100 to $500 million (USD)</th>                <td>   -5.2050</td> <td>    4.057</td> <td>   -1.283</td> <td> 0.200</td> <td>  -13.173</td> <td>    2.763</td>\n</tr>\n<tr>\n  <th>Revenue_$2 to $5 billion (USD)</th>                    <td>    0.1164</td> <td>    6.277</td> <td>    0.019</td> <td> 0.985</td> <td>  -12.212</td> <td>   12.444</td>\n</tr>\n<tr>\n  <th>Revenue_$25 to $50 million (USD)</th>                  <td>   -5.2822</td> <td>    5.374</td> <td>   -0.983</td> <td> 0.326</td> <td>  -15.836</td> <td>    5.272</td>\n</tr>\n<tr>\n  <th>Revenue_$5 to $10 billion (USD)</th>                   <td>    6.6741</td> <td>    7.871</td> <td>    0.848</td> <td> 0.397</td> <td>   -8.785</td> <td>   22.133</td>\n</tr>\n<tr>\n  <th>Revenue_$5 to $10 million (USD)</th>                   <td>   31.6942</td> <td>    8.320</td> <td>    3.809</td> <td> 0.000</td> <td>   15.354</td> <td>   48.034</td>\n</tr>\n<tr>\n  <th>Revenue_$50 to $100 million (USD)</th>                 <td>    5.2867</td> <td>    4.967</td> <td>    1.064</td> <td> 0.288</td> <td>   -4.468</td> <td>   15.042</td>\n</tr>\n<tr>\n  <th>Revenue_$500 million to $1 billion (USD)</th>          <td>   -1.8457</td> <td>    5.315</td> <td>   -0.347</td> <td> 0.729</td> <td>  -12.283</td> <td>    8.592</td>\n</tr>\n<tr>\n  <th>Revenue_-1</th>                                        <td>   13.5666</td> <td>    8.631</td> <td>    1.572</td> <td> 0.117</td> <td>   -3.383</td> <td>   30.517</td>\n</tr>\n<tr>\n  <th>Revenue_Less than $1 million (USD)</th>                <td>   -4.3891</td> <td>   15.210</td> <td>   -0.289</td> <td> 0.773</td> <td>  -34.260</td> <td>   25.482</td>\n</tr>\n<tr>\n  <th>Revenue_Unknown / Non-Applicable</th>                  <td>   -0.4446</td> <td>    3.062</td> <td>   -0.145</td> <td> 0.885</td> <td>   -6.458</td> <td>    5.568</td>\n</tr>\n<tr>\n  <th>job_state_AL</th>                                      <td>   -6.0391</td> <td>   10.470</td> <td>   -0.577</td> <td> 0.564</td> <td>  -26.601</td> <td>   14.523</td>\n</tr>\n<tr>\n  <th>job_state_AZ</th>                                      <td>  -14.0067</td> <td>    8.627</td> <td>   -1.624</td> <td> 0.105</td> <td>  -30.950</td> <td>    2.937</td>\n</tr>\n<tr>\n  <th>job_state_CA</th>                                      <td>   26.7006</td> <td>    3.156</td> <td>    8.461</td> <td> 0.000</td> <td>   20.503</td> <td>   32.898</td>\n</tr>\n<tr>\n  <th>job_state_CO</th>                                      <td>    7.9720</td> <td>    8.301</td> <td>    0.960</td> <td> 0.337</td> <td>   -8.330</td> <td>   24.274</td>\n</tr>\n<tr>\n  <th>job_state_CT</th>                                      <td>  -23.7631</td> <td>   11.367</td> <td>   -2.090</td> <td> 0.037</td> <td>  -46.088</td> <td>   -1.438</td>\n</tr>\n<tr>\n  <th>job_state_DC</th>                                      <td>   13.0836</td> <td>    8.065</td> <td>    1.622</td> <td> 0.105</td> <td>   -2.757</td> <td>   28.924</td>\n</tr>\n<tr>\n  <th>job_state_DE</th>                                      <td>    9.6766</td> <td>   13.857</td> <td>    0.698</td> <td> 0.485</td> <td>  -17.537</td> <td>   36.890</td>\n</tr>\n<tr>\n  <th>job_state_FL</th>                                      <td>  -15.9829</td> <td>    7.631</td> <td>   -2.094</td> <td> 0.037</td> <td>  -30.970</td> <td>   -0.995</td>\n</tr>\n<tr>\n  <th>job_state_GA</th>                                      <td>  -18.5819</td> <td>   10.117</td> <td>   -1.837</td> <td> 0.067</td> <td>  -38.452</td> <td>    1.288</td>\n</tr>\n<tr>\n  <th>job_state_IA</th>                                      <td>   -2.5141</td> <td>   12.449</td> <td>   -0.202</td> <td> 0.840</td> <td>  -26.964</td> <td>   21.936</td>\n</tr>\n<tr>\n  <th>job_state_ID</th>                                      <td>  -24.4535</td> <td>   18.302</td> <td>   -1.336</td> <td> 0.182</td> <td>  -60.396</td> <td>   11.490</td>\n</tr>\n<tr>\n  <th>job_state_IL</th>                                      <td>    9.0296</td> <td>    5.035</td> <td>    1.793</td> <td> 0.073</td> <td>   -0.858</td> <td>   18.918</td>\n</tr>\n<tr>\n  <th>job_state_IN</th>                                      <td>  -10.3913</td> <td>    8.819</td> <td>   -1.178</td> <td> 0.239</td> <td>  -27.711</td> <td>    6.928</td>\n</tr>\n<tr>\n  <th>job_state_KS</th>                                      <td>  -15.1806</td> <td>    7.891</td> <td>   -1.924</td> <td> 0.055</td> <td>  -30.678</td> <td>    0.316</td>\n</tr>\n<tr>\n  <th>job_state_KY</th>                                      <td>   19.8326</td> <td>   12.363</td> <td>    1.604</td> <td> 0.109</td> <td>   -4.448</td> <td>   44.113</td>\n</tr>\n<tr>\n  <th>job_state_LA</th>                                      <td>   -6.3326</td> <td>   13.080</td> <td>   -0.484</td> <td> 0.628</td> <td>  -32.022</td> <td>   19.356</td>\n</tr>\n<tr>\n  <th>job_state_MA</th>                                      <td>    2.7650</td> <td>    3.872</td> <td>    0.714</td> <td> 0.475</td> <td>   -4.839</td> <td>   10.369</td>\n</tr>\n<tr>\n  <th>job_state_MD</th>                                      <td>    7.7849</td> <td>    4.925</td> <td>    1.581</td> <td> 0.114</td> <td>   -1.887</td> <td>   17.457</td>\n</tr>\n<tr>\n  <th>job_state_MI</th>                                      <td>    7.2005</td> <td>   12.318</td> <td>    0.585</td> <td> 0.559</td> <td>  -16.991</td> <td>   31.392</td>\n</tr>\n<tr>\n  <th>job_state_MN</th>                                      <td>    8.2392</td> <td>   17.269</td> <td>    0.477</td> <td> 0.633</td> <td>  -25.677</td> <td>   42.155</td>\n</tr>\n<tr>\n  <th>job_state_MO</th>                                      <td>    9.9106</td> <td>    9.858</td> <td>    1.005</td> <td> 0.315</td> <td>   -9.451</td> <td>   29.272</td>\n</tr>\n<tr>\n  <th>job_state_NC</th>                                      <td>   -3.9448</td> <td>    6.753</td> <td>   -0.584</td> <td> 0.559</td> <td>  -17.208</td> <td>    9.318</td>\n</tr>\n<tr>\n  <th>job_state_NE</th>                                      <td>   -2.9258</td> <td>   13.454</td> <td>   -0.217</td> <td> 0.828</td> <td>  -29.349</td> <td>   23.497</td>\n</tr>\n<tr>\n  <th>job_state_NJ</th>                                      <td>    1.1442</td> <td>    6.823</td> <td>    0.168</td> <td> 0.867</td> <td>  -12.257</td> <td>   14.545</td>\n</tr>\n<tr>\n  <th>job_state_NM</th>                                      <td>  -30.4352</td> <td>   14.491</td> <td>   -2.100</td> <td> 0.036</td> <td>  -58.894</td> <td>   -1.977</td>\n</tr>\n<tr>\n  <th>job_state_NY</th>                                      <td>    5.7713</td> <td>    4.024</td> <td>    1.434</td> <td> 0.152</td> <td>   -2.132</td> <td>   13.675</td>\n</tr>\n<tr>\n  <th>job_state_OH</th>                                      <td>   -0.5451</td> <td>    8.173</td> <td>   -0.067</td> <td> 0.947</td> <td>  -16.596</td> <td>   15.506</td>\n</tr>\n<tr>\n  <th>job_state_OR</th>                                      <td>    2.2890</td> <td>   12.656</td> <td>    0.181</td> <td> 0.857</td> <td>  -22.566</td> <td>   27.144</td>\n</tr>\n<tr>\n  <th>job_state_PA</th>                                      <td>    9.9076</td> <td>    7.195</td> <td>    1.377</td> <td> 0.169</td> <td>   -4.223</td> <td>   24.039</td>\n</tr>\n<tr>\n  <th>job_state_RI</th>                                      <td>   40.0147</td> <td>   24.709</td> <td>    1.619</td> <td> 0.106</td> <td>   -8.512</td> <td>   88.542</td>\n</tr>\n<tr>\n  <th>job_state_SC</th>                                      <td>   30.6343</td> <td>   29.341</td> <td>    1.044</td> <td> 0.297</td> <td>  -26.990</td> <td>   88.259</td>\n</tr>\n<tr>\n  <th>job_state_TN</th>                                      <td>   -6.0948</td> <td>    9.285</td> <td>   -0.656</td> <td> 0.512</td> <td>  -24.331</td> <td>   12.141</td>\n</tr>\n<tr>\n  <th>job_state_TX</th>                                      <td>    0.5431</td> <td>    5.645</td> <td>    0.096</td> <td> 0.923</td> <td>  -10.543</td> <td>   11.629</td>\n</tr>\n<tr>\n  <th>job_state_UT</th>                                      <td>    3.0322</td> <td>   14.829</td> <td>    0.204</td> <td> 0.838</td> <td>  -26.091</td> <td>   32.156</td>\n</tr>\n<tr>\n  <th>job_state_VA</th>                                      <td>   -0.0245</td> <td>    5.012</td> <td>   -0.005</td> <td> 0.996</td> <td>   -9.868</td> <td>    9.819</td>\n</tr>\n<tr>\n  <th>job_state_WA</th>                                      <td>   12.7416</td> <td>    8.148</td> <td>    1.564</td> <td> 0.118</td> <td>   -3.261</td> <td>   28.744</td>\n</tr>\n<tr>\n  <th>job_state_WI</th>                                      <td>   -4.1443</td> <td>   10.119</td> <td>   -0.410</td> <td> 0.682</td> <td>  -24.017</td> <td>   15.728</td>\n</tr>\n<tr>\n  <th>job_simp_analyst</th>                                  <td>  -31.5131</td> <td>    3.352</td> <td>   -9.400</td> <td> 0.000</td> <td>  -38.097</td> <td>  -24.929</td>\n</tr>\n<tr>\n  <th>job_simp_data engineer</th>                            <td>    2.0879</td> <td>    3.204</td> <td>    0.652</td> <td> 0.515</td> <td>   -4.205</td> <td>    8.381</td>\n</tr>\n<tr>\n  <th>job_simp_data scientist</th>                           <td>    8.0678</td> <td>    2.524</td> <td>    3.196</td> <td> 0.001</td> <td>    3.111</td> <td>   13.025</td>\n</tr>\n<tr>\n  <th>job_simp_director</th>                                 <td>   68.5048</td> <td>    6.601</td> <td>   10.377</td> <td> 0.000</td> <td>   55.540</td> <td>   81.470</td>\n</tr>\n<tr>\n  <th>job_simp_manager</th>                                  <td>  -14.6559</td> <td>    5.610</td> <td>   -2.612</td> <td> 0.009</td> <td>  -25.674</td> <td>   -3.638</td>\n</tr>\n<tr>\n  <th>job_simp_mle</th>                                      <td>   21.6451</td> <td>    6.023</td> <td>    3.593</td> <td> 0.000</td> <td>    9.815</td> <td>   33.475</td>\n</tr>\n<tr>\n  <th>job_simp_na</th>                                       <td>  -11.2236</td> <td>    2.959</td> <td>   -3.793</td> <td> 0.000</td> <td>  -17.034</td> <td>   -5.413</td>\n</tr>\n<tr>\n  <th>seniority_jr</th>                                      <td>    9.7735</td> <td>   11.063</td> <td>    0.883</td> <td> 0.377</td> <td>  -11.953</td> <td>   31.501</td>\n</tr>\n<tr>\n  <th>seniority_na</th>                                      <td>    3.6507</td> <td>    4.394</td> <td>    0.831</td> <td> 0.406</td> <td>   -4.979</td> <td>   12.281</td>\n</tr>\n<tr>\n  <th>seniority_senior</th>                                  <td>   29.4887</td> <td>    4.650</td> <td>    6.342</td> <td> 0.000</td> <td>   20.357</td> <td>   38.621</td>\n</tr>\n</table>\n<table class=\"simpletable\">\n<tr>\n  <th>Omnibus:</th>       <td>71.990</td> <th>  Durbin-Watson:     </th> <td>   2.047</td>\n</tr>\n<tr>\n  <th>Prob(Omnibus):</th> <td> 0.000</td> <th>  Jarque-Bera (JB):  </th> <td> 302.118</td>\n</tr>\n<tr>\n  <th>Skew:</th>          <td> 0.337</td> <th>  Prob(JB):          </th> <td>2.49e-66</td>\n</tr>\n<tr>\n  <th>Kurtosis:</th>      <td> 6.052</td> <th>  Cond. No.          </th> <td>2.35e+19</td>\n</tr>\n</table><br/><br/>Notes:<br/>[1] Standard Errors assume that the covariance matrix of the errors is correctly specified.<br/>[2] The smallest eigenvalue is 2.32e-29. This might indicate that there are<br/>strong multicollinearity problems or that the design matrix is singular."
     },
     "metadata": {},
     "execution_count": 10
    }
   ],
   "source": [
    "# multiple linear regression \n",
    "import statsmodels.api as sm\n",
    "\n",
    "X_sm = X = sm.add_constant(X)\n",
    "model = sm.OLS(y,X_sm)\n",
    "model.fit().summary()"
   ]
  },
  {
   "cell_type": "code",
   "execution_count": 11,
   "metadata": {},
   "outputs": [
    {
     "output_type": "execute_result",
     "data": {
      "text/plain": [
       "LinearRegression()"
      ]
     },
     "metadata": {},
     "execution_count": 11
    }
   ],
   "source": [
    "lm = LinearRegression()\n",
    "lm.fit(X_train, y_train)"
   ]
  },
  {
   "cell_type": "code",
   "execution_count": 12,
   "metadata": {},
   "outputs": [
    {
     "output_type": "execute_result",
     "data": {
      "text/plain": [
       "array([-2.01653061e+01, -2.39670596e+08, -2.24276304e+01])"
      ]
     },
     "metadata": {},
     "execution_count": 12
    }
   ],
   "source": [
    "cross_val_score(lm, X_train, y_train, scoring='neg_mean_absolute_error', cv=3) # how far we are from average\n",
    "\n",
    "# 20, 23, 22K dollars off in predictions"
   ]
  },
  {
   "cell_type": "code",
   "execution_count": 13,
   "metadata": {},
   "outputs": [
    {
     "output_type": "stream",
     "name": "stdout",
     "text": [
      "-19.814018365784026\n"
     ]
    },
    {
     "output_type": "execute_result",
     "data": {
      "text/plain": [
       "   alpha      error\n",
       "1   0.02 -19.018243"
      ],
      "text/html": "<div>\n<style scoped>\n    .dataframe tbody tr th:only-of-type {\n        vertical-align: middle;\n    }\n\n    .dataframe tbody tr th {\n        vertical-align: top;\n    }\n\n    .dataframe thead th {\n        text-align: right;\n    }\n</style>\n<table border=\"1\" class=\"dataframe\">\n  <thead>\n    <tr style=\"text-align: right;\">\n      <th></th>\n      <th>alpha</th>\n      <th>error</th>\n    </tr>\n  </thead>\n  <tbody>\n    <tr>\n      <th>1</th>\n      <td>0.02</td>\n      <td>-19.018243</td>\n    </tr>\n  </tbody>\n</table>\n</div>"
     },
     "metadata": {},
     "execution_count": 13
    },
    {
     "output_type": "display_data",
     "data": {
      "text/plain": "<Figure size 432x288 with 1 Axes>",
      "image/svg+xml": "<?xml version=\"1.0\" encoding=\"utf-8\" standalone=\"no\"?>\n<!DOCTYPE svg PUBLIC \"-//W3C//DTD SVG 1.1//EN\"\n  \"http://www.w3.org/Graphics/SVG/1.1/DTD/svg11.dtd\">\n<svg height=\"248.518125pt\" version=\"1.1\" viewBox=\"0 0 386.845313 248.518125\" width=\"386.845313pt\" xmlns=\"http://www.w3.org/2000/svg\" xmlns:xlink=\"http://www.w3.org/1999/xlink\">\n <metadata>\n  <rdf:RDF xmlns:cc=\"http://creativecommons.org/ns#\" xmlns:dc=\"http://purl.org/dc/elements/1.1/\" xmlns:rdf=\"http://www.w3.org/1999/02/22-rdf-syntax-ns#\">\n   <cc:Work>\n    <dc:type rdf:resource=\"http://purl.org/dc/dcmitype/StillImage\"/>\n    <dc:date>2021-07-17T10:56:26.466108</dc:date>\n    <dc:format>image/svg+xml</dc:format>\n    <dc:creator>\n     <cc:Agent>\n      <dc:title>Matplotlib v3.4.1, https://matplotlib.org/</dc:title>\n     </cc:Agent>\n    </dc:creator>\n   </cc:Work>\n  </rdf:RDF>\n </metadata>\n <defs>\n  <style type=\"text/css\">*{stroke-linecap:butt;stroke-linejoin:round;}</style>\n </defs>\n <g id=\"figure_1\">\n  <g id=\"patch_1\">\n   <path d=\"M 0 248.518125 \nL 386.845313 248.518125 \nL 386.845313 0 \nL 0 0 \nz\n\" style=\"fill:none;\"/>\n  </g>\n  <g id=\"axes_1\">\n   <g id=\"patch_2\">\n    <path d=\"M 44.845313 224.64 \nL 379.645313 224.64 \nL 379.645313 7.2 \nL 44.845313 7.2 \nz\n\" style=\"fill:#ffffff;\"/>\n   </g>\n   <g id=\"matplotlib.axis_1\">\n    <g id=\"xtick_1\">\n     <g id=\"line2d_1\">\n      <defs>\n       <path d=\"M 0 0 \nL 0 3.5 \n\" id=\"m971858319a\" style=\"stroke:#000000;stroke-width:0.8;\"/>\n      </defs>\n      <g>\n       <use style=\"stroke:#000000;stroke-width:0.8;\" x=\"56.957743\" xlink:href=\"#m971858319a\" y=\"224.64\"/>\n      </g>\n     </g>\n     <g id=\"text_1\">\n      <!-- 0.0 -->\n      <g transform=\"translate(49.00618 239.238438)scale(0.1 -0.1)\">\n       <defs>\n        <path d=\"M 2034 4250 \nQ 1547 4250 1301 3770 \nQ 1056 3291 1056 2328 \nQ 1056 1369 1301 889 \nQ 1547 409 2034 409 \nQ 2525 409 2770 889 \nQ 3016 1369 3016 2328 \nQ 3016 3291 2770 3770 \nQ 2525 4250 2034 4250 \nz\nM 2034 4750 \nQ 2819 4750 3233 4129 \nQ 3647 3509 3647 2328 \nQ 3647 1150 3233 529 \nQ 2819 -91 2034 -91 \nQ 1250 -91 836 529 \nQ 422 1150 422 2328 \nQ 422 3509 836 4129 \nQ 1250 4750 2034 4750 \nz\n\" id=\"DejaVuSans-30\" transform=\"scale(0.015625)\"/>\n        <path d=\"M 684 794 \nL 1344 794 \nL 1344 0 \nL 684 0 \nL 684 794 \nz\n\" id=\"DejaVuSans-2e\" transform=\"scale(0.015625)\"/>\n       </defs>\n       <use xlink:href=\"#DejaVuSans-30\"/>\n       <use x=\"63.623047\" xlink:href=\"#DejaVuSans-2e\"/>\n       <use x=\"95.410156\" xlink:href=\"#DejaVuSans-30\"/>\n      </g>\n     </g>\n    </g>\n    <g id=\"xtick_2\">\n     <g id=\"line2d_2\">\n      <g>\n       <use style=\"stroke:#000000;stroke-width:0.8;\" x=\"119.072771\" xlink:href=\"#m971858319a\" y=\"224.64\"/>\n      </g>\n     </g>\n     <g id=\"text_2\">\n      <!-- 0.2 -->\n      <g transform=\"translate(111.121208 239.238438)scale(0.1 -0.1)\">\n       <defs>\n        <path d=\"M 1228 531 \nL 3431 531 \nL 3431 0 \nL 469 0 \nL 469 531 \nQ 828 903 1448 1529 \nQ 2069 2156 2228 2338 \nQ 2531 2678 2651 2914 \nQ 2772 3150 2772 3378 \nQ 2772 3750 2511 3984 \nQ 2250 4219 1831 4219 \nQ 1534 4219 1204 4116 \nQ 875 4013 500 3803 \nL 500 4441 \nQ 881 4594 1212 4672 \nQ 1544 4750 1819 4750 \nQ 2544 4750 2975 4387 \nQ 3406 4025 3406 3419 \nQ 3406 3131 3298 2873 \nQ 3191 2616 2906 2266 \nQ 2828 2175 2409 1742 \nQ 1991 1309 1228 531 \nz\n\" id=\"DejaVuSans-32\" transform=\"scale(0.015625)\"/>\n       </defs>\n       <use xlink:href=\"#DejaVuSans-30\"/>\n       <use x=\"63.623047\" xlink:href=\"#DejaVuSans-2e\"/>\n       <use x=\"95.410156\" xlink:href=\"#DejaVuSans-32\"/>\n      </g>\n     </g>\n    </g>\n    <g id=\"xtick_3\">\n     <g id=\"line2d_3\">\n      <g>\n       <use style=\"stroke:#000000;stroke-width:0.8;\" x=\"181.187799\" xlink:href=\"#m971858319a\" y=\"224.64\"/>\n      </g>\n     </g>\n     <g id=\"text_3\">\n      <!-- 0.4 -->\n      <g transform=\"translate(173.236236 239.238438)scale(0.1 -0.1)\">\n       <defs>\n        <path d=\"M 2419 4116 \nL 825 1625 \nL 2419 1625 \nL 2419 4116 \nz\nM 2253 4666 \nL 3047 4666 \nL 3047 1625 \nL 3713 1625 \nL 3713 1100 \nL 3047 1100 \nL 3047 0 \nL 2419 0 \nL 2419 1100 \nL 313 1100 \nL 313 1709 \nL 2253 4666 \nz\n\" id=\"DejaVuSans-34\" transform=\"scale(0.015625)\"/>\n       </defs>\n       <use xlink:href=\"#DejaVuSans-30\"/>\n       <use x=\"63.623047\" xlink:href=\"#DejaVuSans-2e\"/>\n       <use x=\"95.410156\" xlink:href=\"#DejaVuSans-34\"/>\n      </g>\n     </g>\n    </g>\n    <g id=\"xtick_4\">\n     <g id=\"line2d_4\">\n      <g>\n       <use style=\"stroke:#000000;stroke-width:0.8;\" x=\"243.302826\" xlink:href=\"#m971858319a\" y=\"224.64\"/>\n      </g>\n     </g>\n     <g id=\"text_4\">\n      <!-- 0.6 -->\n      <g transform=\"translate(235.351264 239.238438)scale(0.1 -0.1)\">\n       <defs>\n        <path d=\"M 2113 2584 \nQ 1688 2584 1439 2293 \nQ 1191 2003 1191 1497 \nQ 1191 994 1439 701 \nQ 1688 409 2113 409 \nQ 2538 409 2786 701 \nQ 3034 994 3034 1497 \nQ 3034 2003 2786 2293 \nQ 2538 2584 2113 2584 \nz\nM 3366 4563 \nL 3366 3988 \nQ 3128 4100 2886 4159 \nQ 2644 4219 2406 4219 \nQ 1781 4219 1451 3797 \nQ 1122 3375 1075 2522 \nQ 1259 2794 1537 2939 \nQ 1816 3084 2150 3084 \nQ 2853 3084 3261 2657 \nQ 3669 2231 3669 1497 \nQ 3669 778 3244 343 \nQ 2819 -91 2113 -91 \nQ 1303 -91 875 529 \nQ 447 1150 447 2328 \nQ 447 3434 972 4092 \nQ 1497 4750 2381 4750 \nQ 2619 4750 2861 4703 \nQ 3103 4656 3366 4563 \nz\n\" id=\"DejaVuSans-36\" transform=\"scale(0.015625)\"/>\n       </defs>\n       <use xlink:href=\"#DejaVuSans-30\"/>\n       <use x=\"63.623047\" xlink:href=\"#DejaVuSans-2e\"/>\n       <use x=\"95.410156\" xlink:href=\"#DejaVuSans-36\"/>\n      </g>\n     </g>\n    </g>\n    <g id=\"xtick_5\">\n     <g id=\"line2d_5\">\n      <g>\n       <use style=\"stroke:#000000;stroke-width:0.8;\" x=\"305.417854\" xlink:href=\"#m971858319a\" y=\"224.64\"/>\n      </g>\n     </g>\n     <g id=\"text_5\">\n      <!-- 0.8 -->\n      <g transform=\"translate(297.466292 239.238438)scale(0.1 -0.1)\">\n       <defs>\n        <path d=\"M 2034 2216 \nQ 1584 2216 1326 1975 \nQ 1069 1734 1069 1313 \nQ 1069 891 1326 650 \nQ 1584 409 2034 409 \nQ 2484 409 2743 651 \nQ 3003 894 3003 1313 \nQ 3003 1734 2745 1975 \nQ 2488 2216 2034 2216 \nz\nM 1403 2484 \nQ 997 2584 770 2862 \nQ 544 3141 544 3541 \nQ 544 4100 942 4425 \nQ 1341 4750 2034 4750 \nQ 2731 4750 3128 4425 \nQ 3525 4100 3525 3541 \nQ 3525 3141 3298 2862 \nQ 3072 2584 2669 2484 \nQ 3125 2378 3379 2068 \nQ 3634 1759 3634 1313 \nQ 3634 634 3220 271 \nQ 2806 -91 2034 -91 \nQ 1263 -91 848 271 \nQ 434 634 434 1313 \nQ 434 1759 690 2068 \nQ 947 2378 1403 2484 \nz\nM 1172 3481 \nQ 1172 3119 1398 2916 \nQ 1625 2713 2034 2713 \nQ 2441 2713 2670 2916 \nQ 2900 3119 2900 3481 \nQ 2900 3844 2670 4047 \nQ 2441 4250 2034 4250 \nQ 1625 4250 1398 4047 \nQ 1172 3844 1172 3481 \nz\n\" id=\"DejaVuSans-38\" transform=\"scale(0.015625)\"/>\n       </defs>\n       <use xlink:href=\"#DejaVuSans-30\"/>\n       <use x=\"63.623047\" xlink:href=\"#DejaVuSans-2e\"/>\n       <use x=\"95.410156\" xlink:href=\"#DejaVuSans-38\"/>\n      </g>\n     </g>\n    </g>\n    <g id=\"xtick_6\">\n     <g id=\"line2d_6\">\n      <g>\n       <use style=\"stroke:#000000;stroke-width:0.8;\" x=\"367.532882\" xlink:href=\"#m971858319a\" y=\"224.64\"/>\n      </g>\n     </g>\n     <g id=\"text_6\">\n      <!-- 1.0 -->\n      <g transform=\"translate(359.58132 239.238438)scale(0.1 -0.1)\">\n       <defs>\n        <path d=\"M 794 531 \nL 1825 531 \nL 1825 4091 \nL 703 3866 \nL 703 4441 \nL 1819 4666 \nL 2450 4666 \nL 2450 531 \nL 3481 531 \nL 3481 0 \nL 794 0 \nL 794 531 \nz\n\" id=\"DejaVuSans-31\" transform=\"scale(0.015625)\"/>\n       </defs>\n       <use xlink:href=\"#DejaVuSans-31\"/>\n       <use x=\"63.623047\" xlink:href=\"#DejaVuSans-2e\"/>\n       <use x=\"95.410156\" xlink:href=\"#DejaVuSans-30\"/>\n      </g>\n     </g>\n    </g>\n   </g>\n   <g id=\"matplotlib.axis_2\">\n    <g id=\"ytick_1\">\n     <g id=\"line2d_7\">\n      <defs>\n       <path d=\"M 0 0 \nL -3.5 0 \n\" id=\"m1dbbf4f249\" style=\"stroke:#000000;stroke-width:0.8;\"/>\n      </defs>\n      <g>\n       <use style=\"stroke:#000000;stroke-width:0.8;\" x=\"44.845313\" xlink:href=\"#m1dbbf4f249\" y=\"185.209295\"/>\n      </g>\n     </g>\n     <g id=\"text_7\">\n      <!-- −21.0 -->\n      <g transform=\"translate(7.2 189.008514)scale(0.1 -0.1)\">\n       <defs>\n        <path d=\"M 678 2272 \nL 4684 2272 \nL 4684 1741 \nL 678 1741 \nL 678 2272 \nz\n\" id=\"DejaVuSans-2212\" transform=\"scale(0.015625)\"/>\n       </defs>\n       <use xlink:href=\"#DejaVuSans-2212\"/>\n       <use x=\"83.789062\" xlink:href=\"#DejaVuSans-32\"/>\n       <use x=\"147.412109\" xlink:href=\"#DejaVuSans-31\"/>\n       <use x=\"211.035156\" xlink:href=\"#DejaVuSans-2e\"/>\n       <use x=\"242.822266\" xlink:href=\"#DejaVuSans-30\"/>\n      </g>\n     </g>\n    </g>\n    <g id=\"ytick_2\">\n     <g id=\"line2d_8\">\n      <g>\n       <use style=\"stroke:#000000;stroke-width:0.8;\" x=\"44.845313\" xlink:href=\"#m1dbbf4f249\" y=\"142.790959\"/>\n      </g>\n     </g>\n     <g id=\"text_8\">\n      <!-- −20.5 -->\n      <g transform=\"translate(7.2 146.590177)scale(0.1 -0.1)\">\n       <defs>\n        <path d=\"M 691 4666 \nL 3169 4666 \nL 3169 4134 \nL 1269 4134 \nL 1269 2991 \nQ 1406 3038 1543 3061 \nQ 1681 3084 1819 3084 \nQ 2600 3084 3056 2656 \nQ 3513 2228 3513 1497 \nQ 3513 744 3044 326 \nQ 2575 -91 1722 -91 \nQ 1428 -91 1123 -41 \nQ 819 9 494 109 \nL 494 744 \nQ 775 591 1075 516 \nQ 1375 441 1709 441 \nQ 2250 441 2565 725 \nQ 2881 1009 2881 1497 \nQ 2881 1984 2565 2268 \nQ 2250 2553 1709 2553 \nQ 1456 2553 1204 2497 \nQ 953 2441 691 2322 \nL 691 4666 \nz\n\" id=\"DejaVuSans-35\" transform=\"scale(0.015625)\"/>\n       </defs>\n       <use xlink:href=\"#DejaVuSans-2212\"/>\n       <use x=\"83.789062\" xlink:href=\"#DejaVuSans-32\"/>\n       <use x=\"147.412109\" xlink:href=\"#DejaVuSans-30\"/>\n       <use x=\"211.035156\" xlink:href=\"#DejaVuSans-2e\"/>\n       <use x=\"242.822266\" xlink:href=\"#DejaVuSans-35\"/>\n      </g>\n     </g>\n    </g>\n    <g id=\"ytick_3\">\n     <g id=\"line2d_9\">\n      <g>\n       <use style=\"stroke:#000000;stroke-width:0.8;\" x=\"44.845313\" xlink:href=\"#m1dbbf4f249\" y=\"100.372622\"/>\n      </g>\n     </g>\n     <g id=\"text_9\">\n      <!-- −20.0 -->\n      <g transform=\"translate(7.2 104.171841)scale(0.1 -0.1)\">\n       <use xlink:href=\"#DejaVuSans-2212\"/>\n       <use x=\"83.789062\" xlink:href=\"#DejaVuSans-32\"/>\n       <use x=\"147.412109\" xlink:href=\"#DejaVuSans-30\"/>\n       <use x=\"211.035156\" xlink:href=\"#DejaVuSans-2e\"/>\n       <use x=\"242.822266\" xlink:href=\"#DejaVuSans-30\"/>\n      </g>\n     </g>\n    </g>\n    <g id=\"ytick_4\">\n     <g id=\"line2d_10\">\n      <g>\n       <use style=\"stroke:#000000;stroke-width:0.8;\" x=\"44.845313\" xlink:href=\"#m1dbbf4f249\" y=\"57.954285\"/>\n      </g>\n     </g>\n     <g id=\"text_10\">\n      <!-- −19.5 -->\n      <g transform=\"translate(7.2 61.753504)scale(0.1 -0.1)\">\n       <defs>\n        <path d=\"M 703 97 \nL 703 672 \nQ 941 559 1184 500 \nQ 1428 441 1663 441 \nQ 2288 441 2617 861 \nQ 2947 1281 2994 2138 \nQ 2813 1869 2534 1725 \nQ 2256 1581 1919 1581 \nQ 1219 1581 811 2004 \nQ 403 2428 403 3163 \nQ 403 3881 828 4315 \nQ 1253 4750 1959 4750 \nQ 2769 4750 3195 4129 \nQ 3622 3509 3622 2328 \nQ 3622 1225 3098 567 \nQ 2575 -91 1691 -91 \nQ 1453 -91 1209 -44 \nQ 966 3 703 97 \nz\nM 1959 2075 \nQ 2384 2075 2632 2365 \nQ 2881 2656 2881 3163 \nQ 2881 3666 2632 3958 \nQ 2384 4250 1959 4250 \nQ 1534 4250 1286 3958 \nQ 1038 3666 1038 3163 \nQ 1038 2656 1286 2365 \nQ 1534 2075 1959 2075 \nz\n\" id=\"DejaVuSans-39\" transform=\"scale(0.015625)\"/>\n       </defs>\n       <use xlink:href=\"#DejaVuSans-2212\"/>\n       <use x=\"83.789062\" xlink:href=\"#DejaVuSans-31\"/>\n       <use x=\"147.412109\" xlink:href=\"#DejaVuSans-39\"/>\n       <use x=\"211.035156\" xlink:href=\"#DejaVuSans-2e\"/>\n       <use x=\"242.822266\" xlink:href=\"#DejaVuSans-35\"/>\n      </g>\n     </g>\n    </g>\n    <g id=\"ytick_5\">\n     <g id=\"line2d_11\">\n      <g>\n       <use style=\"stroke:#000000;stroke-width:0.8;\" x=\"44.845313\" xlink:href=\"#m1dbbf4f249\" y=\"15.535948\"/>\n      </g>\n     </g>\n     <g id=\"text_11\">\n      <!-- −19.0 -->\n      <g transform=\"translate(7.2 19.335167)scale(0.1 -0.1)\">\n       <use xlink:href=\"#DejaVuSans-2212\"/>\n       <use x=\"83.789062\" xlink:href=\"#DejaVuSans-31\"/>\n       <use x=\"147.412109\" xlink:href=\"#DejaVuSans-39\"/>\n       <use x=\"211.035156\" xlink:href=\"#DejaVuSans-2e\"/>\n       <use x=\"242.822266\" xlink:href=\"#DejaVuSans-30\"/>\n      </g>\n     </g>\n    </g>\n   </g>\n   <g id=\"line2d_12\">\n    <path clip-path=\"url(#p5a4b891d0a)\" d=\"M 60.063494 19.290428 \nL 63.169246 17.083636 \nL 66.274997 23.650136 \nL 69.380748 28.165379 \nL 72.4865 31.625471 \nL 75.592251 35.609469 \nL 78.698003 38.049201 \nL 81.803754 39.978471 \nL 84.909505 41.894703 \nL 88.015257 43.959725 \nL 91.121008 44.627891 \nL 94.22676 45.743843 \nL 97.332511 46.212933 \nL 100.438262 45.267953 \nL 103.544014 43.956846 \nL 106.649765 43.532428 \nL 109.755517 43.317668 \nL 112.861268 44.163813 \nL 115.967019 45.727513 \nL 119.072771 47.091642 \nL 122.178522 48.871904 \nL 125.284274 51.441992 \nL 128.390025 53.051949 \nL 131.495776 54.797256 \nL 134.601528 56.701248 \nL 137.707279 58.659322 \nL 140.81303 60.414764 \nL 143.918782 62.348088 \nL 147.024533 64.55151 \nL 150.130285 66.503569 \nL 153.236036 68.417585 \nL 156.341787 70.383528 \nL 159.447539 72.469639 \nL 162.55329 74.861855 \nL 165.659042 77.450301 \nL 168.764793 80.11271 \nL 171.870544 82.779736 \nL 174.976296 85.462916 \nL 178.082047 88.147804 \nL 181.187799 90.966046 \nL 184.29355 93.425096 \nL 187.399301 95.923761 \nL 190.505053 98.545153 \nL 193.610804 101.116523 \nL 196.716556 103.480528 \nL 199.822307 105.663123 \nL 202.928058 107.837994 \nL 206.03381 110.004105 \nL 209.139561 112.239147 \nL 212.245313 114.638973 \nL 215.351064 117.104867 \nL 218.456815 119.497868 \nL 221.562567 121.836261 \nL 224.668318 124.129099 \nL 227.774069 126.5098 \nL 230.879821 128.89855 \nL 233.985572 130.965959 \nL 237.091324 132.838708 \nL 240.197075 134.600476 \nL 243.302826 136.395218 \nL 246.408578 138.216089 \nL 249.514329 140.010992 \nL 252.620081 141.793911 \nL 255.725832 143.555399 \nL 258.831583 145.332272 \nL 261.937335 147.172299 \nL 265.043086 149.042835 \nL 268.148838 150.923498 \nL 271.254589 152.808355 \nL 274.36034 154.696283 \nL 277.466092 156.584193 \nL 280.571843 158.472453 \nL 283.677595 160.390809 \nL 286.783346 162.329845 \nL 289.889097 164.258948 \nL 292.994849 166.170431 \nL 296.1006 168.081716 \nL 299.206351 169.9932 \nL 302.312103 171.904679 \nL 305.417854 173.931377 \nL 308.523606 176.096271 \nL 311.629357 178.342688 \nL 314.735108 180.625989 \nL 317.84086 182.928506 \nL 320.946611 185.239726 \nL 324.052363 187.592453 \nL 327.158114 190.002329 \nL 330.263865 192.430291 \nL 333.369617 194.868618 \nL 336.475368 196.935198 \nL 339.58112 198.927161 \nL 342.686871 200.925038 \nL 345.792622 202.936335 \nL 348.898374 204.915765 \nL 352.004125 206.875934 \nL 355.109877 208.83617 \nL 358.215628 210.828661 \nL 361.321379 212.811087 \nL 364.427131 214.756364 \n\" style=\"fill:none;stroke:#1f77b4;stroke-linecap:square;stroke-width:1.5;\"/>\n   </g>\n   <g id=\"patch_3\">\n    <path d=\"M 44.845313 224.64 \nL 44.845313 7.2 \n\" style=\"fill:none;stroke:#000000;stroke-linecap:square;stroke-linejoin:miter;stroke-width:0.8;\"/>\n   </g>\n   <g id=\"patch_4\">\n    <path d=\"M 379.645313 224.64 \nL 379.645313 7.2 \n\" style=\"fill:none;stroke:#000000;stroke-linecap:square;stroke-linejoin:miter;stroke-width:0.8;\"/>\n   </g>\n   <g id=\"patch_5\">\n    <path d=\"M 44.845313 224.64 \nL 379.645313 224.64 \n\" style=\"fill:none;stroke:#000000;stroke-linecap:square;stroke-linejoin:miter;stroke-width:0.8;\"/>\n   </g>\n   <g id=\"patch_6\">\n    <path d=\"M 44.845313 7.2 \nL 379.645313 7.2 \n\" style=\"fill:none;stroke:#000000;stroke-linecap:square;stroke-linejoin:miter;stroke-width:0.8;\"/>\n   </g>\n  </g>\n </g>\n <defs>\n  <clipPath id=\"p5a4b891d0a\">\n   <rect height=\"217.44\" width=\"334.8\" x=\"44.845313\" y=\"7.2\"/>\n  </clipPath>\n </defs>\n</svg>\n",
      "image/png": "[encoded data removed]"
     },
     "metadata": {
      "needs_background": "light"
     }
    }
   ],
   "source": [
    "# lasso regression \n",
    "lm_l = Lasso(alpha=.02) \n",
    "lm_l.fit(X_train,y_train)\n",
    "print(np.mean(cross_val_score(lm_l, X_train, y_train, scoring='neg_mean_absolute_error', cv=3)))\n",
    "\n",
    "alpha = []\n",
    "error = []\n",
    "\n",
    "for i in range(1,100):\n",
    "    alpha.append(i/100)\n",
    "    lml = Lasso(alpha=(i/100))\n",
    "    error.append(np.mean(cross_val_score(lml, X_train, y_train, scoring='neg_mean_absolute_error', cv=5)))\n",
    "    \n",
    "plt.plot(alpha,error)\n",
    "\n",
    "err = tuple(zip(alpha,error))\n",
    "df_err = pd.DataFrame(err, columns = ['alpha','error'])\n",
    "df_err[df_err.error == max(df_err.error)]"
   ]
  },
  {
   "cell_type": "code",
   "execution_count": 14,
   "metadata": {},
   "outputs": [
    {
     "output_type": "execute_result",
     "data": {
      "text/plain": [
       "-5.304062172715161e+16"
      ]
     },
     "metadata": {},
     "execution_count": 14
    }
   ],
   "source": [
    "sgd_reg = SGDRegressor(max_iter=1000, tol=1e-3, penalty=None, eta0=0.1)\n",
    "sgd_reg.fit(X_train, y_train.ravel())\n",
    "np.mean(cross_val_score(sgd_reg, X_train, y_train, scoring='neg_mean_absolute_error', cv=3)) # better than lasso"
   ]
  },
  {
   "cell_type": "code",
   "execution_count": 15,
   "metadata": {},
   "outputs": [
    {
     "output_type": "execute_result",
     "data": {
      "text/plain": [
       "-15.006889324719273"
      ]
     },
     "metadata": {},
     "execution_count": 15
    }
   ],
   "source": [
    "# random forest -- should work better as we have many 0/1s\n",
    "rf = RandomForestRegressor()\n",
    "np.mean(cross_val_score(rf,X_train, y_train, scoring='neg_mean_absolute_error', cv=3))"
   ]
  },
  {
   "cell_type": "code",
   "execution_count": 16,
   "metadata": {},
   "outputs": [
    {
     "output_type": "execute_result",
     "data": {
      "text/plain": [
       "RandomForestRegressor(n_estimators=140)"
      ]
     },
     "metadata": {},
     "execution_count": 16
    }
   ],
   "source": [
    "# tune models GridsearchCV \n",
    "parameters = {'n_estimators':range(10,300,10), 'criterion':('mse','mae'), 'max_features':('auto','sqrt','log2')}\n",
    "\n",
    "gs = RandomizedSearchCV(rf, parameters, scoring='neg_mean_absolute_error', cv=3)\n",
    "gs.fit(X_train,y_train)\n",
    "\n",
    "gs.best_score_\n",
    "gs.best_estimator_"
   ]
  },
  {
   "cell_type": "code",
   "execution_count": 17,
   "metadata": {},
   "outputs": [
    {
     "output_type": "stream",
     "name": "stdout",
     "text": [
      "138375609.04250935\n19.117003101592555\n11.20321188878236\n4.827359305040846e+16\n"
     ]
    },
    {
     "output_type": "execute_result",
     "data": {
      "text/plain": [
       "69187809.13681786"
      ]
     },
     "metadata": {},
     "execution_count": 17
    }
   ],
   "source": [
    "# test ensembles \n",
    "tpred_lm = lm.predict(X_test)\n",
    "tpred_lml = lm_l.predict(X_test)\n",
    "tpred_rf = gs.best_estimator_.predict(X_test)\n",
    "tpred_sgd = sgd_reg.predict(X_test)\n",
    "\n",
    "print(mean_absolute_error(y_test,tpred_lm))\n",
    "print(mean_absolute_error(y_test,tpred_lml))\n",
    "print(mean_absolute_error(y_test,tpred_rf))\n",
    "print(mean_absolute_error(y_test,tpred_sgd))\n",
    "\n",
    "mean_absolute_error(y_test, (tpred_lm+tpred_rf)/2)"
   ]
  },
  {
   "cell_type": "code",
   "execution_count": 18,
   "metadata": {},
   "outputs": [],
   "source": [
    "pickl = {'model': gs.best_estimator_}\n",
    "pickle.dump(pickl, open( 'model_file' + \".p\", \"wb\" ) )\n",
    "\n",
    "file_name = \"model_file.p\"\n",
    "with open(file_name, 'rb') as pickled:\n",
    "    data = pickle.load(pickled)\n",
    "    model = data['model']"
   ]
  },
  {
   "cell_type": "code",
   "execution_count": 20,
   "metadata": {},
   "outputs": [
    {
     "output_type": "execute_result",
     "data": {
      "text/plain": [
       "Rating               3.6\n",
       "num_comp             0.0\n",
       "hourly               0.0\n",
       "employer_provided    0.0\n",
       "same_state           1.0\n",
       "                    ... \n",
       "job_simp_mle         0.0\n",
       "job_simp_na          0.0\n",
       "seniority_jr         0.0\n",
       "seniority_na         1.0\n",
       "seniority_senior     0.0\n",
       "Name: 196, Length: 177, dtype: float64"
      ]
     },
     "metadata": {},
     "execution_count": 20
    }
   ],
   "source": [
    "X_test.iloc[1,:]"
   ]
  },
  {
   "cell_type": "code",
   "execution_count": 22,
   "metadata": {},
   "outputs": [
    {
     "output_type": "execute_result",
     "data": {
      "text/plain": [
       "[3.6, 0.0, 0.0, 0.0, 1.0, 35.0, 0.0, 0.0, 0.0, 1.0]"
      ]
     },
     "metadata": {},
     "execution_count": 22
    }
   ],
   "source": [
    "list(X_test.iloc[1,:])[:10] # just 10 features"
   ]
  },
  {
   "cell_type": "code",
   "execution_count": 28,
   "metadata": {},
   "outputs": [
    {
     "output_type": "execute_result",
     "data": {
      "text/plain": [
       "array([52.025])"
      ]
     },
     "metadata": {},
     "execution_count": 28
    }
   ],
   "source": [
    "model.predict(np.array(list(X_test.iloc[1,:])).reshape(1,-1))"
   ]
  }
 ]
}